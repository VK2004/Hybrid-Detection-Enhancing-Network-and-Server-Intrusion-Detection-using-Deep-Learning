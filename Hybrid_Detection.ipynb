{
  "nbformat": 4,
  "nbformat_minor": 0,
  "metadata": {
    "colab": {
      "provenance": [],
      "mount_file_id": "1RE84_E7h2JuieeXueDoeX_-UOXJLEMSr",
      "authorship_tag": "ABX9TyOwWxFe/FhMuN/V9Z+LRm5a"
    },
    "kernelspec": {
      "name": "python3",
      "display_name": "Python 3"
    },
    "language_info": {
      "name": "python"
    }
  },
  "cells": [
    {
      "cell_type": "code",
      "source": [
        "import warnings\n",
        "warnings.filterwarnings(\"ignore\")"
      ],
      "metadata": {
        "id": "_erYK1r8Ib6G"
      },
      "execution_count": 1,
      "outputs": []
    },
    {
      "cell_type": "code",
      "source": [
        "import pandas as pd\n",
        "import numpy as np\n",
        "import matplotlib.pyplot as plt\n",
        "import seaborn as sns\n",
        "from sklearn.model_selection import train_test_split\n",
        "from sklearn.metrics import classification_report, confusion_matrix, accuracy_score, precision_score, recall_score, f1_score\n",
        "from imblearn.over_sampling import ADASYN\n",
        "import xgboost as xgb\n",
        "from sklearn.impute import SimpleImputer\n",
        "from sklearn.preprocessing import LabelEncoder\n",
        "from keras.utils import to_categorical\n",
        "from keras.models import Sequential\n",
        "from keras.layers import Activation, Dropout, Dense\n",
        "from sklearn.preprocessing import StandardScaler"
      ],
      "metadata": {
        "id": "fTmBOkMpIcy0"
      },
      "execution_count": 2,
      "outputs": []
    },
    {
      "cell_type": "code",
      "source": [
        "# Load the dataset\n",
        "df = pd.read_csv(\"/content/drive/MyDrive/IDS_Data/CICIDS2017.csv\")\n",
        "d = pd.read_csv(\"/content/drive/MyDrive/IDS_Data/CICIDS2017_sample.csv\")"
      ],
      "metadata": {
        "id": "sGpBRUI6IgCJ"
      },
      "execution_count": 3,
      "outputs": []
    },
    {
      "cell_type": "code",
      "source": [
        "d"
      ],
      "metadata": {
        "colab": {
          "base_uri": "https://localhost:8080/",
          "height": 520
        },
        "id": "Y8uFpTMZIvq6",
        "outputId": "ae66a0cc-b43b-412e-9797-00671a7eb440"
      },
      "execution_count": 4,
      "outputs": [
        {
          "output_type": "execute_result",
          "data": {
            "text/plain": [
              "       Flow Duration  Total Fwd Packets  Total Backward Packets  \\\n",
              "0                  4                  2                       0   \n",
              "1             142377                 46                      62   \n",
              "2             118873                 23                      28   \n",
              "3             143577                 43                      55   \n",
              "4             143745                 49                      59   \n",
              "...              ...                ...                     ...   \n",
              "56656            234                  2                       2   \n",
              "56657         133288                  2                       2   \n",
              "56658       11507694                  5                       4   \n",
              "56659       11507707                  8                       6   \n",
              "56660       11512204                  8                       5   \n",
              "\n",
              "       Total Length of Fwd Packets  Total Length of Bwd Packets  \\\n",
              "0                               37                            0   \n",
              "1                             1325                       105855   \n",
              "2                             1169                        45025   \n",
              "3                             1301                       107289   \n",
              "4                             1331                       110185   \n",
              "...                            ...                          ...   \n",
              "56656                           64                          232   \n",
              "56657                           94                          482   \n",
              "56658                          450                         3525   \n",
              "56659                          416                        11632   \n",
              "56660                          326                        11632   \n",
              "\n",
              "       Fwd Packet Length Max  Fwd Packet Length Min  Fwd Packet Length Mean  \\\n",
              "0                         31                      6               18.500000   \n",
              "1                        570                      0               28.804348   \n",
              "2                        570                      0               50.826087   \n",
              "3                        570                      0               30.255814   \n",
              "4                        570                      0               27.163265   \n",
              "...                      ...                    ...                     ...   \n",
              "56656                     32                     32               32.000000   \n",
              "56657                     47                     47               47.000000   \n",
              "56658                    450                      0               90.000000   \n",
              "56659                    416                      0               52.000000   \n",
              "56660                    326                      0               40.750000   \n",
              "\n",
              "       Fwd Packet Length Std  Bwd Packet Length Max  ...  \\\n",
              "0                  17.677670                      0  ...   \n",
              "1                 111.407285                   4344  ...   \n",
              "2                 156.137367                   2896  ...   \n",
              "3                 115.178969                   4344  ...   \n",
              "4                 108.067176                   4344  ...   \n",
              "...                      ...                    ...  ...   \n",
              "56656               0.000000                    116  ...   \n",
              "56657               0.000000                    241  ...   \n",
              "56658             201.246118                   3525  ...   \n",
              "56659             147.078211                   5792  ...   \n",
              "56660             115.258405                  10184  ...   \n",
              "\n",
              "       min_seg_size_forward  Active Mean  Active Std  Active Max  Active Min  \\\n",
              "0                        20          0.0         0.0           0           0   \n",
              "1                        20          0.0         0.0           0           0   \n",
              "2                        32          0.0         0.0           0           0   \n",
              "3                        20          0.0         0.0           0           0   \n",
              "4                        20          0.0         0.0           0           0   \n",
              "...                     ...          ...         ...         ...         ...   \n",
              "56656                    32          0.0         0.0           0           0   \n",
              "56657                    32          0.0         0.0           0           0   \n",
              "56658                    32        893.0         0.0         893         893   \n",
              "56659                    32        897.0         0.0         897         897   \n",
              "56660                    32        892.0         0.0         892         892   \n",
              "\n",
              "       Idle Mean  Idle Std  Idle Max  Idle Min   Label  \n",
              "0            0.0       0.0         0         0  BENIGN  \n",
              "1            0.0       0.0         0         0  BENIGN  \n",
              "2            0.0       0.0         0         0  BENIGN  \n",
              "3            0.0       0.0         0         0  BENIGN  \n",
              "4            0.0       0.0         0         0  BENIGN  \n",
              "...          ...       ...       ...       ...     ...  \n",
              "56656        0.0       0.0         0         0  BENIGN  \n",
              "56657        0.0       0.0         0         0  BENIGN  \n",
              "56658  6503640.0       0.0   6503640   6503640     DoS  \n",
              "56659  6503122.0       0.0   6503122   6503122     DoS  \n",
              "56660  6507197.0       0.0   6507197   6507197     DoS  \n",
              "\n",
              "[56661 rows x 78 columns]"
            ],
            "text/html": [
              "\n",
              "\n",
              "  <div id=\"df-c014b74f-e5ea-40f7-955f-892c91eeb96b\">\n",
              "    <div class=\"colab-df-container\">\n",
              "      <div>\n",
              "<style scoped>\n",
              "    .dataframe tbody tr th:only-of-type {\n",
              "        vertical-align: middle;\n",
              "    }\n",
              "\n",
              "    .dataframe tbody tr th {\n",
              "        vertical-align: top;\n",
              "    }\n",
              "\n",
              "    .dataframe thead th {\n",
              "        text-align: right;\n",
              "    }\n",
              "</style>\n",
              "<table border=\"1\" class=\"dataframe\">\n",
              "  <thead>\n",
              "    <tr style=\"text-align: right;\">\n",
              "      <th></th>\n",
              "      <th>Flow Duration</th>\n",
              "      <th>Total Fwd Packets</th>\n",
              "      <th>Total Backward Packets</th>\n",
              "      <th>Total Length of Fwd Packets</th>\n",
              "      <th>Total Length of Bwd Packets</th>\n",
              "      <th>Fwd Packet Length Max</th>\n",
              "      <th>Fwd Packet Length Min</th>\n",
              "      <th>Fwd Packet Length Mean</th>\n",
              "      <th>Fwd Packet Length Std</th>\n",
              "      <th>Bwd Packet Length Max</th>\n",
              "      <th>...</th>\n",
              "      <th>min_seg_size_forward</th>\n",
              "      <th>Active Mean</th>\n",
              "      <th>Active Std</th>\n",
              "      <th>Active Max</th>\n",
              "      <th>Active Min</th>\n",
              "      <th>Idle Mean</th>\n",
              "      <th>Idle Std</th>\n",
              "      <th>Idle Max</th>\n",
              "      <th>Idle Min</th>\n",
              "      <th>Label</th>\n",
              "    </tr>\n",
              "  </thead>\n",
              "  <tbody>\n",
              "    <tr>\n",
              "      <th>0</th>\n",
              "      <td>4</td>\n",
              "      <td>2</td>\n",
              "      <td>0</td>\n",
              "      <td>37</td>\n",
              "      <td>0</td>\n",
              "      <td>31</td>\n",
              "      <td>6</td>\n",
              "      <td>18.500000</td>\n",
              "      <td>17.677670</td>\n",
              "      <td>0</td>\n",
              "      <td>...</td>\n",
              "      <td>20</td>\n",
              "      <td>0.0</td>\n",
              "      <td>0.0</td>\n",
              "      <td>0</td>\n",
              "      <td>0</td>\n",
              "      <td>0.0</td>\n",
              "      <td>0.0</td>\n",
              "      <td>0</td>\n",
              "      <td>0</td>\n",
              "      <td>BENIGN</td>\n",
              "    </tr>\n",
              "    <tr>\n",
              "      <th>1</th>\n",
              "      <td>142377</td>\n",
              "      <td>46</td>\n",
              "      <td>62</td>\n",
              "      <td>1325</td>\n",
              "      <td>105855</td>\n",
              "      <td>570</td>\n",
              "      <td>0</td>\n",
              "      <td>28.804348</td>\n",
              "      <td>111.407285</td>\n",
              "      <td>4344</td>\n",
              "      <td>...</td>\n",
              "      <td>20</td>\n",
              "      <td>0.0</td>\n",
              "      <td>0.0</td>\n",
              "      <td>0</td>\n",
              "      <td>0</td>\n",
              "      <td>0.0</td>\n",
              "      <td>0.0</td>\n",
              "      <td>0</td>\n",
              "      <td>0</td>\n",
              "      <td>BENIGN</td>\n",
              "    </tr>\n",
              "    <tr>\n",
              "      <th>2</th>\n",
              "      <td>118873</td>\n",
              "      <td>23</td>\n",
              "      <td>28</td>\n",
              "      <td>1169</td>\n",
              "      <td>45025</td>\n",
              "      <td>570</td>\n",
              "      <td>0</td>\n",
              "      <td>50.826087</td>\n",
              "      <td>156.137367</td>\n",
              "      <td>2896</td>\n",
              "      <td>...</td>\n",
              "      <td>32</td>\n",
              "      <td>0.0</td>\n",
              "      <td>0.0</td>\n",
              "      <td>0</td>\n",
              "      <td>0</td>\n",
              "      <td>0.0</td>\n",
              "      <td>0.0</td>\n",
              "      <td>0</td>\n",
              "      <td>0</td>\n",
              "      <td>BENIGN</td>\n",
              "    </tr>\n",
              "    <tr>\n",
              "      <th>3</th>\n",
              "      <td>143577</td>\n",
              "      <td>43</td>\n",
              "      <td>55</td>\n",
              "      <td>1301</td>\n",
              "      <td>107289</td>\n",
              "      <td>570</td>\n",
              "      <td>0</td>\n",
              "      <td>30.255814</td>\n",
              "      <td>115.178969</td>\n",
              "      <td>4344</td>\n",
              "      <td>...</td>\n",
              "      <td>20</td>\n",
              "      <td>0.0</td>\n",
              "      <td>0.0</td>\n",
              "      <td>0</td>\n",
              "      <td>0</td>\n",
              "      <td>0.0</td>\n",
              "      <td>0.0</td>\n",
              "      <td>0</td>\n",
              "      <td>0</td>\n",
              "      <td>BENIGN</td>\n",
              "    </tr>\n",
              "    <tr>\n",
              "      <th>4</th>\n",
              "      <td>143745</td>\n",
              "      <td>49</td>\n",
              "      <td>59</td>\n",
              "      <td>1331</td>\n",
              "      <td>110185</td>\n",
              "      <td>570</td>\n",
              "      <td>0</td>\n",
              "      <td>27.163265</td>\n",
              "      <td>108.067176</td>\n",
              "      <td>4344</td>\n",
              "      <td>...</td>\n",
              "      <td>20</td>\n",
              "      <td>0.0</td>\n",
              "      <td>0.0</td>\n",
              "      <td>0</td>\n",
              "      <td>0</td>\n",
              "      <td>0.0</td>\n",
              "      <td>0.0</td>\n",
              "      <td>0</td>\n",
              "      <td>0</td>\n",
              "      <td>BENIGN</td>\n",
              "    </tr>\n",
              "    <tr>\n",
              "      <th>...</th>\n",
              "      <td>...</td>\n",
              "      <td>...</td>\n",
              "      <td>...</td>\n",
              "      <td>...</td>\n",
              "      <td>...</td>\n",
              "      <td>...</td>\n",
              "      <td>...</td>\n",
              "      <td>...</td>\n",
              "      <td>...</td>\n",
              "      <td>...</td>\n",
              "      <td>...</td>\n",
              "      <td>...</td>\n",
              "      <td>...</td>\n",
              "      <td>...</td>\n",
              "      <td>...</td>\n",
              "      <td>...</td>\n",
              "      <td>...</td>\n",
              "      <td>...</td>\n",
              "      <td>...</td>\n",
              "      <td>...</td>\n",
              "      <td>...</td>\n",
              "    </tr>\n",
              "    <tr>\n",
              "      <th>56656</th>\n",
              "      <td>234</td>\n",
              "      <td>2</td>\n",
              "      <td>2</td>\n",
              "      <td>64</td>\n",
              "      <td>232</td>\n",
              "      <td>32</td>\n",
              "      <td>32</td>\n",
              "      <td>32.000000</td>\n",
              "      <td>0.000000</td>\n",
              "      <td>116</td>\n",
              "      <td>...</td>\n",
              "      <td>32</td>\n",
              "      <td>0.0</td>\n",
              "      <td>0.0</td>\n",
              "      <td>0</td>\n",
              "      <td>0</td>\n",
              "      <td>0.0</td>\n",
              "      <td>0.0</td>\n",
              "      <td>0</td>\n",
              "      <td>0</td>\n",
              "      <td>BENIGN</td>\n",
              "    </tr>\n",
              "    <tr>\n",
              "      <th>56657</th>\n",
              "      <td>133288</td>\n",
              "      <td>2</td>\n",
              "      <td>2</td>\n",
              "      <td>94</td>\n",
              "      <td>482</td>\n",
              "      <td>47</td>\n",
              "      <td>47</td>\n",
              "      <td>47.000000</td>\n",
              "      <td>0.000000</td>\n",
              "      <td>241</td>\n",
              "      <td>...</td>\n",
              "      <td>32</td>\n",
              "      <td>0.0</td>\n",
              "      <td>0.0</td>\n",
              "      <td>0</td>\n",
              "      <td>0</td>\n",
              "      <td>0.0</td>\n",
              "      <td>0.0</td>\n",
              "      <td>0</td>\n",
              "      <td>0</td>\n",
              "      <td>BENIGN</td>\n",
              "    </tr>\n",
              "    <tr>\n",
              "      <th>56658</th>\n",
              "      <td>11507694</td>\n",
              "      <td>5</td>\n",
              "      <td>4</td>\n",
              "      <td>450</td>\n",
              "      <td>3525</td>\n",
              "      <td>450</td>\n",
              "      <td>0</td>\n",
              "      <td>90.000000</td>\n",
              "      <td>201.246118</td>\n",
              "      <td>3525</td>\n",
              "      <td>...</td>\n",
              "      <td>32</td>\n",
              "      <td>893.0</td>\n",
              "      <td>0.0</td>\n",
              "      <td>893</td>\n",
              "      <td>893</td>\n",
              "      <td>6503640.0</td>\n",
              "      <td>0.0</td>\n",
              "      <td>6503640</td>\n",
              "      <td>6503640</td>\n",
              "      <td>DoS</td>\n",
              "    </tr>\n",
              "    <tr>\n",
              "      <th>56659</th>\n",
              "      <td>11507707</td>\n",
              "      <td>8</td>\n",
              "      <td>6</td>\n",
              "      <td>416</td>\n",
              "      <td>11632</td>\n",
              "      <td>416</td>\n",
              "      <td>0</td>\n",
              "      <td>52.000000</td>\n",
              "      <td>147.078211</td>\n",
              "      <td>5792</td>\n",
              "      <td>...</td>\n",
              "      <td>32</td>\n",
              "      <td>897.0</td>\n",
              "      <td>0.0</td>\n",
              "      <td>897</td>\n",
              "      <td>897</td>\n",
              "      <td>6503122.0</td>\n",
              "      <td>0.0</td>\n",
              "      <td>6503122</td>\n",
              "      <td>6503122</td>\n",
              "      <td>DoS</td>\n",
              "    </tr>\n",
              "    <tr>\n",
              "      <th>56660</th>\n",
              "      <td>11512204</td>\n",
              "      <td>8</td>\n",
              "      <td>5</td>\n",
              "      <td>326</td>\n",
              "      <td>11632</td>\n",
              "      <td>326</td>\n",
              "      <td>0</td>\n",
              "      <td>40.750000</td>\n",
              "      <td>115.258405</td>\n",
              "      <td>10184</td>\n",
              "      <td>...</td>\n",
              "      <td>32</td>\n",
              "      <td>892.0</td>\n",
              "      <td>0.0</td>\n",
              "      <td>892</td>\n",
              "      <td>892</td>\n",
              "      <td>6507197.0</td>\n",
              "      <td>0.0</td>\n",
              "      <td>6507197</td>\n",
              "      <td>6507197</td>\n",
              "      <td>DoS</td>\n",
              "    </tr>\n",
              "  </tbody>\n",
              "</table>\n",
              "<p>56661 rows × 78 columns</p>\n",
              "</div>\n",
              "      <button class=\"colab-df-convert\" onclick=\"convertToInteractive('df-c014b74f-e5ea-40f7-955f-892c91eeb96b')\"\n",
              "              title=\"Convert this dataframe to an interactive table.\"\n",
              "              style=\"display:none;\">\n",
              "\n",
              "  <svg xmlns=\"http://www.w3.org/2000/svg\" height=\"24px\"viewBox=\"0 0 24 24\"\n",
              "       width=\"24px\">\n",
              "    <path d=\"M0 0h24v24H0V0z\" fill=\"none\"/>\n",
              "    <path d=\"M18.56 5.44l.94 2.06.94-2.06 2.06-.94-2.06-.94-.94-2.06-.94 2.06-2.06.94zm-11 1L8.5 8.5l.94-2.06 2.06-.94-2.06-.94L8.5 2.5l-.94 2.06-2.06.94zm10 10l.94 2.06.94-2.06 2.06-.94-2.06-.94-.94-2.06-.94 2.06-2.06.94z\"/><path d=\"M17.41 7.96l-1.37-1.37c-.4-.4-.92-.59-1.43-.59-.52 0-1.04.2-1.43.59L10.3 9.45l-7.72 7.72c-.78.78-.78 2.05 0 2.83L4 21.41c.39.39.9.59 1.41.59.51 0 1.02-.2 1.41-.59l7.78-7.78 2.81-2.81c.8-.78.8-2.07 0-2.86zM5.41 20L4 18.59l7.72-7.72 1.47 1.35L5.41 20z\"/>\n",
              "  </svg>\n",
              "      </button>\n",
              "\n",
              "\n",
              "\n",
              "    <div id=\"df-6113f135-635b-4ccc-965c-10fb7b010640\">\n",
              "      <button class=\"colab-df-quickchart\" onclick=\"quickchart('df-6113f135-635b-4ccc-965c-10fb7b010640')\"\n",
              "              title=\"Suggest charts.\"\n",
              "              style=\"display:none;\">\n",
              "\n",
              "<svg xmlns=\"http://www.w3.org/2000/svg\" height=\"24px\"viewBox=\"0 0 24 24\"\n",
              "     width=\"24px\">\n",
              "    <g>\n",
              "        <path d=\"M19 3H5c-1.1 0-2 .9-2 2v14c0 1.1.9 2 2 2h14c1.1 0 2-.9 2-2V5c0-1.1-.9-2-2-2zM9 17H7v-7h2v7zm4 0h-2V7h2v10zm4 0h-2v-4h2v4z\"/>\n",
              "    </g>\n",
              "</svg>\n",
              "      </button>\n",
              "    </div>\n",
              "\n",
              "<style>\n",
              "  .colab-df-quickchart {\n",
              "    background-color: #E8F0FE;\n",
              "    border: none;\n",
              "    border-radius: 50%;\n",
              "    cursor: pointer;\n",
              "    display: none;\n",
              "    fill: #1967D2;\n",
              "    height: 32px;\n",
              "    padding: 0 0 0 0;\n",
              "    width: 32px;\n",
              "  }\n",
              "\n",
              "  .colab-df-quickchart:hover {\n",
              "    background-color: #E2EBFA;\n",
              "    box-shadow: 0px 1px 2px rgba(60, 64, 67, 0.3), 0px 1px 3px 1px rgba(60, 64, 67, 0.15);\n",
              "    fill: #174EA6;\n",
              "  }\n",
              "\n",
              "  [theme=dark] .colab-df-quickchart {\n",
              "    background-color: #3B4455;\n",
              "    fill: #D2E3FC;\n",
              "  }\n",
              "\n",
              "  [theme=dark] .colab-df-quickchart:hover {\n",
              "    background-color: #434B5C;\n",
              "    box-shadow: 0px 1px 3px 1px rgba(0, 0, 0, 0.15);\n",
              "    filter: drop-shadow(0px 1px 2px rgba(0, 0, 0, 0.3));\n",
              "    fill: #FFFFFF;\n",
              "  }\n",
              "</style>\n",
              "\n",
              "    <script>\n",
              "      async function quickchart(key) {\n",
              "        const containerElement = document.querySelector('#' + key);\n",
              "        const charts = await google.colab.kernel.invokeFunction(\n",
              "            'suggestCharts', [key], {});\n",
              "      }\n",
              "    </script>\n",
              "\n",
              "      <script>\n",
              "\n",
              "function displayQuickchartButton(domScope) {\n",
              "  let quickchartButtonEl =\n",
              "    domScope.querySelector('#df-6113f135-635b-4ccc-965c-10fb7b010640 button.colab-df-quickchart');\n",
              "  quickchartButtonEl.style.display =\n",
              "    google.colab.kernel.accessAllowed ? 'block' : 'none';\n",
              "}\n",
              "\n",
              "        displayQuickchartButton(document);\n",
              "      </script>\n",
              "      <style>\n",
              "    .colab-df-container {\n",
              "      display:flex;\n",
              "      flex-wrap:wrap;\n",
              "      gap: 12px;\n",
              "    }\n",
              "\n",
              "    .colab-df-convert {\n",
              "      background-color: #E8F0FE;\n",
              "      border: none;\n",
              "      border-radius: 50%;\n",
              "      cursor: pointer;\n",
              "      display: none;\n",
              "      fill: #1967D2;\n",
              "      height: 32px;\n",
              "      padding: 0 0 0 0;\n",
              "      width: 32px;\n",
              "    }\n",
              "\n",
              "    .colab-df-convert:hover {\n",
              "      background-color: #E2EBFA;\n",
              "      box-shadow: 0px 1px 2px rgba(60, 64, 67, 0.3), 0px 1px 3px 1px rgba(60, 64, 67, 0.15);\n",
              "      fill: #174EA6;\n",
              "    }\n",
              "\n",
              "    [theme=dark] .colab-df-convert {\n",
              "      background-color: #3B4455;\n",
              "      fill: #D2E3FC;\n",
              "    }\n",
              "\n",
              "    [theme=dark] .colab-df-convert:hover {\n",
              "      background-color: #434B5C;\n",
              "      box-shadow: 0px 1px 3px 1px rgba(0, 0, 0, 0.15);\n",
              "      filter: drop-shadow(0px 1px 2px rgba(0, 0, 0, 0.3));\n",
              "      fill: #FFFFFF;\n",
              "    }\n",
              "  </style>\n",
              "\n",
              "      <script>\n",
              "        const buttonEl =\n",
              "          document.querySelector('#df-c014b74f-e5ea-40f7-955f-892c91eeb96b button.colab-df-convert');\n",
              "        buttonEl.style.display =\n",
              "          google.colab.kernel.accessAllowed ? 'block' : 'none';\n",
              "\n",
              "        async function convertToInteractive(key) {\n",
              "          const element = document.querySelector('#df-c014b74f-e5ea-40f7-955f-892c91eeb96b');\n",
              "          const dataTable =\n",
              "            await google.colab.kernel.invokeFunction('convertToInteractive',\n",
              "                                                     [key], {});\n",
              "          if (!dataTable) return;\n",
              "\n",
              "          const docLinkHtml = 'Like what you see? Visit the ' +\n",
              "            '<a target=\"_blank\" href=https://colab.research.google.com/notebooks/data_table.ipynb>data table notebook</a>'\n",
              "            + ' to learn more about interactive tables.';\n",
              "          element.innerHTML = '';\n",
              "          dataTable['output_type'] = 'display_data';\n",
              "          await google.colab.output.renderOutput(dataTable, element);\n",
              "          const docLink = document.createElement('div');\n",
              "          docLink.innerHTML = docLinkHtml;\n",
              "          element.appendChild(docLink);\n",
              "        }\n",
              "      </script>\n",
              "    </div>\n",
              "  </div>\n"
            ]
          },
          "metadata": {},
          "execution_count": 4
        }
      ]
    },
    {
      "cell_type": "code",
      "source": [
        "# Check the distribution of labels\n",
        "label_counts = df['Label'].value_counts()\n",
        "print(label_counts)"
      ],
      "metadata": {
        "colab": {
          "base_uri": "https://localhost:8080/"
        },
        "id": "XvW-0CFpI_BZ",
        "outputId": "8e98501b-016c-45b1-ae0c-4ebef5defdd8"
      },
      "execution_count": 5,
      "outputs": [
        {
          "output_type": "stream",
          "name": "stdout",
          "text": [
            "0    18225\n",
            "3     3042\n",
            "6     2180\n",
            "1     1966\n",
            "5     1255\n",
            "2       96\n",
            "4       36\n",
            "Name: Label, dtype: int64\n"
          ]
        }
      ]
    },
    {
      "cell_type": "code",
      "source": [
        "# Split the data into features (X) and labels (y)\n",
        "X = df.drop(['Label'], axis=1)\n",
        "y = df['Label']"
      ],
      "metadata": {
        "id": "l5JGz4W1JB4e"
      },
      "execution_count": 6,
      "outputs": []
    },
    {
      "cell_type": "code",
      "source": [
        "# Label encoding for XGBClassifier\n",
        "label_encoder = LabelEncoder()\n",
        "y_encoded = label_encoder.fit_transform(y)"
      ],
      "metadata": {
        "id": "Jr-u11DTv3O4"
      },
      "execution_count": 7,
      "outputs": []
    },
    {
      "cell_type": "code",
      "source": [
        "# Split the data into training and test sets\n",
        "X_train, X_test, y_train, y_test = train_test_split(X, y, train_size=0.8, test_size=0.2, random_state=0)"
      ],
      "metadata": {
        "id": "qp90uLrXJDgD"
      },
      "execution_count": 8,
      "outputs": []
    },
    {
      "cell_type": "code",
      "source": [
        "# Apply ADASYN for oversampling\n",
        "adasyn = ADASYN(n_jobs=-1, sampling_strategy={2: 1000, 4: 1000})\n",
        "X_train, y_train = adasyn.fit_resample(X_train, y_train)"
      ],
      "metadata": {
        "id": "izlLSE7xJIZ2"
      },
      "execution_count": 9,
      "outputs": []
    },
    {
      "cell_type": "code",
      "source": [
        "# Normalize data for neural network\n",
        "scaler = StandardScaler()\n",
        "X_train_scaled = scaler.fit_transform(X_train)\n",
        "X_test_scaled = scaler.transform(X_test)"
      ],
      "metadata": {
        "id": "nP2_MSmCwAK_"
      },
      "execution_count": 10,
      "outputs": []
    },
    {
      "cell_type": "code",
      "source": [
        "# Train the XGBoost algorithm\n",
        "xgb_model = xgb.XGBClassifier()\n",
        "xgb_model.fit(X_train, y_train)"
      ],
      "metadata": {
        "colab": {
          "base_uri": "https://localhost:8080/",
          "height": 248
        },
        "id": "h_03BUi5JKLz",
        "outputId": "a6e5eecd-64f7-4397-c618-45a1e13150ae"
      },
      "execution_count": 11,
      "outputs": [
        {
          "output_type": "execute_result",
          "data": {
            "text/plain": [
              "XGBClassifier(base_score=None, booster=None, callbacks=None,\n",
              "              colsample_bylevel=None, colsample_bynode=None,\n",
              "              colsample_bytree=None, early_stopping_rounds=None,\n",
              "              enable_categorical=False, eval_metric=None, feature_types=None,\n",
              "              gamma=None, gpu_id=None, grow_policy=None, importance_type=None,\n",
              "              interaction_constraints=None, learning_rate=None, max_bin=None,\n",
              "              max_cat_threshold=None, max_cat_to_onehot=None,\n",
              "              max_delta_step=None, max_depth=None, max_leaves=None,\n",
              "              min_child_weight=None, missing=nan, monotone_constraints=None,\n",
              "              n_estimators=100, n_jobs=None, num_parallel_tree=None,\n",
              "              objective='multi:softprob', predictor=None, ...)"
            ],
            "text/html": [
              "<style>#sk-container-id-1 {color: black;background-color: white;}#sk-container-id-1 pre{padding: 0;}#sk-container-id-1 div.sk-toggleable {background-color: white;}#sk-container-id-1 label.sk-toggleable__label {cursor: pointer;display: block;width: 100%;margin-bottom: 0;padding: 0.3em;box-sizing: border-box;text-align: center;}#sk-container-id-1 label.sk-toggleable__label-arrow:before {content: \"▸\";float: left;margin-right: 0.25em;color: #696969;}#sk-container-id-1 label.sk-toggleable__label-arrow:hover:before {color: black;}#sk-container-id-1 div.sk-estimator:hover label.sk-toggleable__label-arrow:before {color: black;}#sk-container-id-1 div.sk-toggleable__content {max-height: 0;max-width: 0;overflow: hidden;text-align: left;background-color: #f0f8ff;}#sk-container-id-1 div.sk-toggleable__content pre {margin: 0.2em;color: black;border-radius: 0.25em;background-color: #f0f8ff;}#sk-container-id-1 input.sk-toggleable__control:checked~div.sk-toggleable__content {max-height: 200px;max-width: 100%;overflow: auto;}#sk-container-id-1 input.sk-toggleable__control:checked~label.sk-toggleable__label-arrow:before {content: \"▾\";}#sk-container-id-1 div.sk-estimator input.sk-toggleable__control:checked~label.sk-toggleable__label {background-color: #d4ebff;}#sk-container-id-1 div.sk-label input.sk-toggleable__control:checked~label.sk-toggleable__label {background-color: #d4ebff;}#sk-container-id-1 input.sk-hidden--visually {border: 0;clip: rect(1px 1px 1px 1px);clip: rect(1px, 1px, 1px, 1px);height: 1px;margin: -1px;overflow: hidden;padding: 0;position: absolute;width: 1px;}#sk-container-id-1 div.sk-estimator {font-family: monospace;background-color: #f0f8ff;border: 1px dotted black;border-radius: 0.25em;box-sizing: border-box;margin-bottom: 0.5em;}#sk-container-id-1 div.sk-estimator:hover {background-color: #d4ebff;}#sk-container-id-1 div.sk-parallel-item::after {content: \"\";width: 100%;border-bottom: 1px solid gray;flex-grow: 1;}#sk-container-id-1 div.sk-label:hover label.sk-toggleable__label {background-color: #d4ebff;}#sk-container-id-1 div.sk-serial::before {content: \"\";position: absolute;border-left: 1px solid gray;box-sizing: border-box;top: 0;bottom: 0;left: 50%;z-index: 0;}#sk-container-id-1 div.sk-serial {display: flex;flex-direction: column;align-items: center;background-color: white;padding-right: 0.2em;padding-left: 0.2em;position: relative;}#sk-container-id-1 div.sk-item {position: relative;z-index: 1;}#sk-container-id-1 div.sk-parallel {display: flex;align-items: stretch;justify-content: center;background-color: white;position: relative;}#sk-container-id-1 div.sk-item::before, #sk-container-id-1 div.sk-parallel-item::before {content: \"\";position: absolute;border-left: 1px solid gray;box-sizing: border-box;top: 0;bottom: 0;left: 50%;z-index: -1;}#sk-container-id-1 div.sk-parallel-item {display: flex;flex-direction: column;z-index: 1;position: relative;background-color: white;}#sk-container-id-1 div.sk-parallel-item:first-child::after {align-self: flex-end;width: 50%;}#sk-container-id-1 div.sk-parallel-item:last-child::after {align-self: flex-start;width: 50%;}#sk-container-id-1 div.sk-parallel-item:only-child::after {width: 0;}#sk-container-id-1 div.sk-dashed-wrapped {border: 1px dashed gray;margin: 0 0.4em 0.5em 0.4em;box-sizing: border-box;padding-bottom: 0.4em;background-color: white;}#sk-container-id-1 div.sk-label label {font-family: monospace;font-weight: bold;display: inline-block;line-height: 1.2em;}#sk-container-id-1 div.sk-label-container {text-align: center;}#sk-container-id-1 div.sk-container {/* jupyter's `normalize.less` sets `[hidden] { display: none; }` but bootstrap.min.css set `[hidden] { display: none !important; }` so we also need the `!important` here to be able to override the default hidden behavior on the sphinx rendered scikit-learn.org. See: https://github.com/scikit-learn/scikit-learn/issues/21755 */display: inline-block !important;position: relative;}#sk-container-id-1 div.sk-text-repr-fallback {display: none;}</style><div id=\"sk-container-id-1\" class=\"sk-top-container\"><div class=\"sk-text-repr-fallback\"><pre>XGBClassifier(base_score=None, booster=None, callbacks=None,\n",
              "              colsample_bylevel=None, colsample_bynode=None,\n",
              "              colsample_bytree=None, early_stopping_rounds=None,\n",
              "              enable_categorical=False, eval_metric=None, feature_types=None,\n",
              "              gamma=None, gpu_id=None, grow_policy=None, importance_type=None,\n",
              "              interaction_constraints=None, learning_rate=None, max_bin=None,\n",
              "              max_cat_threshold=None, max_cat_to_onehot=None,\n",
              "              max_delta_step=None, max_depth=None, max_leaves=None,\n",
              "              min_child_weight=None, missing=nan, monotone_constraints=None,\n",
              "              n_estimators=100, n_jobs=None, num_parallel_tree=None,\n",
              "              objective=&#x27;multi:softprob&#x27;, predictor=None, ...)</pre><b>In a Jupyter environment, please rerun this cell to show the HTML representation or trust the notebook. <br />On GitHub, the HTML representation is unable to render, please try loading this page with nbviewer.org.</b></div><div class=\"sk-container\" hidden><div class=\"sk-item\"><div class=\"sk-estimator sk-toggleable\"><input class=\"sk-toggleable__control sk-hidden--visually\" id=\"sk-estimator-id-1\" type=\"checkbox\" checked><label for=\"sk-estimator-id-1\" class=\"sk-toggleable__label sk-toggleable__label-arrow\">XGBClassifier</label><div class=\"sk-toggleable__content\"><pre>XGBClassifier(base_score=None, booster=None, callbacks=None,\n",
              "              colsample_bylevel=None, colsample_bynode=None,\n",
              "              colsample_bytree=None, early_stopping_rounds=None,\n",
              "              enable_categorical=False, eval_metric=None, feature_types=None,\n",
              "              gamma=None, gpu_id=None, grow_policy=None, importance_type=None,\n",
              "              interaction_constraints=None, learning_rate=None, max_bin=None,\n",
              "              max_cat_threshold=None, max_cat_to_onehot=None,\n",
              "              max_delta_step=None, max_depth=None, max_leaves=None,\n",
              "              min_child_weight=None, missing=nan, monotone_constraints=None,\n",
              "              n_estimators=100, n_jobs=None, num_parallel_tree=None,\n",
              "              objective=&#x27;multi:softprob&#x27;, predictor=None, ...)</pre></div></div></div></div></div>"
            ]
          },
          "metadata": {},
          "execution_count": 11
        }
      ]
    },
    {
      "cell_type": "code",
      "source": [
        "# Neural network model\n",
        "model = Sequential()\n",
        "model.add(Dense(128, input_dim=X_train.shape[1], activation='relu'))\n",
        "model.add(Dense(len(label_encoder.classes_), activation='softmax'))  # Number of classes"
      ],
      "metadata": {
        "id": "IfoQaYzgwJG9"
      },
      "execution_count": 12,
      "outputs": []
    },
    {
      "cell_type": "code",
      "source": [
        "model.compile(loss='categorical_crossentropy', optimizer='adam', metrics=['accuracy'])\n",
        "model.summary()"
      ],
      "metadata": {
        "colab": {
          "base_uri": "https://localhost:8080/"
        },
        "id": "k5i33xoGwNap",
        "outputId": "c65e12df-aee7-407b-986d-48cb05715485"
      },
      "execution_count": 13,
      "outputs": [
        {
          "output_type": "stream",
          "name": "stdout",
          "text": [
            "Model: \"sequential\"\n",
            "_________________________________________________________________\n",
            " Layer (type)                Output Shape              Param #   \n",
            "=================================================================\n",
            " dense (Dense)               (None, 128)               9984      \n",
            "                                                                 \n",
            " dense_1 (Dense)             (None, 7)                 903       \n",
            "                                                                 \n",
            "=================================================================\n",
            "Total params: 10,887\n",
            "Trainable params: 10,887\n",
            "Non-trainable params: 0\n",
            "_________________________________________________________________\n"
          ]
        }
      ]
    },
    {
      "cell_type": "code",
      "source": [
        "# One-hot encode y_train and y_test for neural network\n",
        "y_train_encoded = to_categorical(y_train)\n",
        "y_test_encoded = to_categorical(y_test)"
      ],
      "metadata": {
        "id": "-Xbt6FdawShF"
      },
      "execution_count": 14,
      "outputs": []
    },
    {
      "cell_type": "code",
      "source": [
        "history = model.fit(X_train_scaled, y_train_encoded, batch_size=32, epochs=50, verbose=1, validation_data=(X_test_scaled, y_test_encoded))\n",
        "predictions = model.predict(X_test_scaled)"
      ],
      "metadata": {
        "colab": {
          "base_uri": "https://localhost:8080/"
        },
        "id": "Zxjt0hEiwVOg",
        "outputId": "e6c23fd1-b663-41fd-8788-9720b2c64c6e"
      },
      "execution_count": 15,
      "outputs": [
        {
          "output_type": "stream",
          "name": "stdout",
          "text": [
            "Epoch 1/50\n",
            "729/729 [==============================] - 3s 3ms/step - loss: 0.4296 - accuracy: 0.8356 - val_loss: 0.2634 - val_accuracy: 0.8950\n",
            "Epoch 2/50\n",
            "729/729 [==============================] - 2s 3ms/step - loss: 0.2471 - accuracy: 0.8943 - val_loss: 0.2150 - val_accuracy: 0.9325\n",
            "Epoch 3/50\n",
            "729/729 [==============================] - 2s 2ms/step - loss: 0.2135 - accuracy: 0.9088 - val_loss: 0.2147 - val_accuracy: 0.8965\n",
            "Epoch 4/50\n",
            "729/729 [==============================] - 1s 2ms/step - loss: 0.1978 - accuracy: 0.9145 - val_loss: 0.1987 - val_accuracy: 0.9190\n",
            "Epoch 5/50\n",
            "729/729 [==============================] - 2s 2ms/step - loss: 0.1860 - accuracy: 0.9216 - val_loss: 0.1795 - val_accuracy: 0.9287\n",
            "Epoch 6/50\n",
            "729/729 [==============================] - 1s 2ms/step - loss: 0.1774 - accuracy: 0.9255 - val_loss: 0.1769 - val_accuracy: 0.9362\n",
            "Epoch 7/50\n",
            "729/729 [==============================] - 1s 2ms/step - loss: 0.1707 - accuracy: 0.9272 - val_loss: 0.1779 - val_accuracy: 0.9220\n",
            "Epoch 8/50\n",
            "729/729 [==============================] - 1s 2ms/step - loss: 0.1649 - accuracy: 0.9305 - val_loss: 0.1829 - val_accuracy: 0.9183\n",
            "Epoch 9/50\n",
            "729/729 [==============================] - 2s 3ms/step - loss: 0.1610 - accuracy: 0.9312 - val_loss: 0.1785 - val_accuracy: 0.9207\n",
            "Epoch 10/50\n",
            "729/729 [==============================] - 2s 3ms/step - loss: 0.1572 - accuracy: 0.9333 - val_loss: 0.1698 - val_accuracy: 0.9332\n",
            "Epoch 11/50\n",
            "729/729 [==============================] - 2s 3ms/step - loss: 0.1548 - accuracy: 0.9347 - val_loss: 0.1699 - val_accuracy: 0.9306\n",
            "Epoch 12/50\n",
            "729/729 [==============================] - 2s 2ms/step - loss: 0.1518 - accuracy: 0.9359 - val_loss: 0.1630 - val_accuracy: 0.9285\n",
            "Epoch 13/50\n",
            "729/729 [==============================] - 2s 2ms/step - loss: 0.1475 - accuracy: 0.9367 - val_loss: 0.1698 - val_accuracy: 0.9341\n",
            "Epoch 14/50\n",
            "729/729 [==============================] - 2s 2ms/step - loss: 0.1471 - accuracy: 0.9380 - val_loss: 0.1651 - val_accuracy: 0.9362\n",
            "Epoch 15/50\n",
            "729/729 [==============================] - 2s 2ms/step - loss: 0.1469 - accuracy: 0.9402 - val_loss: 0.1677 - val_accuracy: 0.9306\n",
            "Epoch 16/50\n",
            "729/729 [==============================] - 2s 2ms/step - loss: 0.1423 - accuracy: 0.9406 - val_loss: 0.1569 - val_accuracy: 0.9368\n",
            "Epoch 17/50\n",
            "729/729 [==============================] - 1s 2ms/step - loss: 0.1414 - accuracy: 0.9416 - val_loss: 0.1466 - val_accuracy: 0.9446\n",
            "Epoch 18/50\n",
            "729/729 [==============================] - 2s 3ms/step - loss: 0.1405 - accuracy: 0.9412 - val_loss: 0.1545 - val_accuracy: 0.9388\n",
            "Epoch 19/50\n",
            "729/729 [==============================] - 2s 3ms/step - loss: 0.1383 - accuracy: 0.9413 - val_loss: 0.1508 - val_accuracy: 0.9451\n",
            "Epoch 20/50\n",
            "729/729 [==============================] - 2s 2ms/step - loss: 0.1371 - accuracy: 0.9425 - val_loss: 0.1559 - val_accuracy: 0.9368\n",
            "Epoch 21/50\n",
            "729/729 [==============================] - 1s 2ms/step - loss: 0.1371 - accuracy: 0.9420 - val_loss: 0.1559 - val_accuracy: 0.9271\n",
            "Epoch 22/50\n",
            "729/729 [==============================] - 2s 2ms/step - loss: 0.1344 - accuracy: 0.9428 - val_loss: 0.1506 - val_accuracy: 0.9433\n",
            "Epoch 23/50\n",
            "729/729 [==============================] - 2s 2ms/step - loss: 0.1338 - accuracy: 0.9441 - val_loss: 0.1545 - val_accuracy: 0.9317\n",
            "Epoch 24/50\n",
            "729/729 [==============================] - 1s 2ms/step - loss: 0.1322 - accuracy: 0.9440 - val_loss: 0.1723 - val_accuracy: 0.9317\n",
            "Epoch 25/50\n",
            "729/729 [==============================] - 1s 2ms/step - loss: 0.1348 - accuracy: 0.9452 - val_loss: 0.1428 - val_accuracy: 0.9470\n",
            "Epoch 26/50\n",
            "729/729 [==============================] - 2s 2ms/step - loss: 0.1314 - accuracy: 0.9440 - val_loss: 0.1588 - val_accuracy: 0.9410\n",
            "Epoch 27/50\n",
            "729/729 [==============================] - 2s 3ms/step - loss: 0.1324 - accuracy: 0.9442 - val_loss: 0.1593 - val_accuracy: 0.9418\n",
            "Epoch 28/50\n",
            "729/729 [==============================] - 2s 3ms/step - loss: 0.1296 - accuracy: 0.9462 - val_loss: 0.1596 - val_accuracy: 0.9364\n",
            "Epoch 29/50\n",
            "729/729 [==============================] - 2s 2ms/step - loss: 0.1279 - accuracy: 0.9457 - val_loss: 0.1622 - val_accuracy: 0.9384\n",
            "Epoch 30/50\n",
            "729/729 [==============================] - 1s 2ms/step - loss: 0.1317 - accuracy: 0.9432 - val_loss: 0.1501 - val_accuracy: 0.9472\n",
            "Epoch 31/50\n",
            "729/729 [==============================] - 1s 2ms/step - loss: 0.1293 - accuracy: 0.9437 - val_loss: 0.1634 - val_accuracy: 0.9418\n",
            "Epoch 32/50\n",
            "729/729 [==============================] - 2s 2ms/step - loss: 0.1298 - accuracy: 0.9453 - val_loss: 0.1589 - val_accuracy: 0.9379\n",
            "Epoch 33/50\n",
            "729/729 [==============================] - 1s 2ms/step - loss: 0.1276 - accuracy: 0.9446 - val_loss: 0.1566 - val_accuracy: 0.9429\n",
            "Epoch 34/50\n",
            "729/729 [==============================] - 2s 2ms/step - loss: 0.1270 - accuracy: 0.9456 - val_loss: 0.1541 - val_accuracy: 0.9470\n",
            "Epoch 35/50\n",
            "729/729 [==============================] - 2s 2ms/step - loss: 0.1255 - accuracy: 0.9449 - val_loss: 0.1606 - val_accuracy: 0.9384\n",
            "Epoch 36/50\n",
            "729/729 [==============================] - 2s 3ms/step - loss: 0.1270 - accuracy: 0.9467 - val_loss: 0.1601 - val_accuracy: 0.9364\n",
            "Epoch 37/50\n",
            "729/729 [==============================] - 2s 3ms/step - loss: 0.1268 - accuracy: 0.9455 - val_loss: 0.1548 - val_accuracy: 0.9466\n",
            "Epoch 38/50\n",
            "729/729 [==============================] - 1s 2ms/step - loss: 0.1261 - accuracy: 0.9458 - val_loss: 0.1576 - val_accuracy: 0.9418\n",
            "Epoch 39/50\n",
            "729/729 [==============================] - 2s 2ms/step - loss: 0.1245 - accuracy: 0.9461 - val_loss: 0.1626 - val_accuracy: 0.9349\n",
            "Epoch 40/50\n",
            "729/729 [==============================] - 2s 2ms/step - loss: 0.1250 - accuracy: 0.9464 - val_loss: 0.1605 - val_accuracy: 0.9433\n",
            "Epoch 41/50\n",
            "729/729 [==============================] - 1s 2ms/step - loss: 0.1253 - accuracy: 0.9459 - val_loss: 0.1573 - val_accuracy: 0.9433\n",
            "Epoch 42/50\n",
            "729/729 [==============================] - 1s 2ms/step - loss: 0.1241 - accuracy: 0.9484 - val_loss: 0.1518 - val_accuracy: 0.9470\n",
            "Epoch 43/50\n",
            "729/729 [==============================] - 2s 2ms/step - loss: 0.1252 - accuracy: 0.9465 - val_loss: 0.1598 - val_accuracy: 0.9444\n",
            "Epoch 44/50\n",
            "729/729 [==============================] - 2s 2ms/step - loss: 0.1225 - accuracy: 0.9470 - val_loss: 0.1843 - val_accuracy: 0.9224\n",
            "Epoch 45/50\n",
            "729/729 [==============================] - 2s 3ms/step - loss: 0.1271 - accuracy: 0.9459 - val_loss: 0.1542 - val_accuracy: 0.9489\n",
            "Epoch 46/50\n",
            "729/729 [==============================] - 2s 3ms/step - loss: 0.1228 - accuracy: 0.9476 - val_loss: 0.1543 - val_accuracy: 0.9437\n",
            "Epoch 47/50\n",
            "729/729 [==============================] - 2s 2ms/step - loss: 0.1224 - accuracy: 0.9475 - val_loss: 0.1715 - val_accuracy: 0.9403\n",
            "Epoch 48/50\n",
            "729/729 [==============================] - 1s 2ms/step - loss: 0.1221 - accuracy: 0.9475 - val_loss: 0.1670 - val_accuracy: 0.9461\n",
            "Epoch 49/50\n",
            "729/729 [==============================] - 1s 2ms/step - loss: 0.1212 - accuracy: 0.9473 - val_loss: 0.1601 - val_accuracy: 0.9474\n",
            "Epoch 50/50\n",
            "729/729 [==============================] - 2s 2ms/step - loss: 0.1218 - accuracy: 0.9476 - val_loss: 0.1625 - val_accuracy: 0.9455\n",
            "168/168 [==============================] - 0s 1ms/step\n"
          ]
        }
      ]
    },
    {
      "cell_type": "code",
      "source": [
        "# Convert predictions to class labels\n",
        "y_pred_nn = label_encoder.inverse_transform(predictions.argmax(axis=1))"
      ],
      "metadata": {
        "id": "CjrLeleVwYim"
      },
      "execution_count": 16,
      "outputs": []
    },
    {
      "cell_type": "code",
      "source": [
        "# Make predictions on the test set\n",
        "y_pred = xgb_model.predict(X_test)"
      ],
      "metadata": {
        "id": "XUsu9FBvJNeo"
      },
      "execution_count": 17,
      "outputs": []
    },
    {
      "cell_type": "code",
      "source": [
        "# Evaluate the performance of Neural Network Model\n",
        "print(\"Max Pooling 1D: \")\n",
        "print(classification_report(y_test, y_pred_nn))\n",
        "print(\"Accuracy of IDS:\", accuracy_score(y_test, y_pred_nn))\n",
        "print(\"Precision of IDS:\", precision_score(y_test, y_pred_nn, average='weighted'))\n",
        "print(\"Recall of IDS:\", recall_score(y_test, y_pred_nn, average='weighted'))\n",
        "print(\"Average F1 of IDS:\", f1_score(y_test, y_pred_nn, average='weighted'))\n",
        "print(\"F1 of Logistic Regression based IDS for each type of attack:\", f1_score(y_test, y_pred_nn, average=None))"
      ],
      "metadata": {
        "colab": {
          "base_uri": "https://localhost:8080/"
        },
        "id": "Q68JC5yyweqi",
        "outputId": "fa22bf0f-4ffa-4f59-a517-912409f79496"
      },
      "execution_count": 18,
      "outputs": [
        {
          "output_type": "stream",
          "name": "stdout",
          "text": [
            "Max Pooling 1D: \n",
            "              precision    recall  f1-score   support\n",
            "\n",
            "           0       0.98      0.95      0.96      3656\n",
            "           1       0.83      0.99      0.90       387\n",
            "           2       0.18      0.93      0.30        14\n",
            "           3       0.96      0.95      0.95       612\n",
            "           4       0.60      0.38      0.46         8\n",
            "           5       0.86      0.96      0.91       231\n",
            "           6       0.96      0.91      0.93       452\n",
            "\n",
            "    accuracy                           0.95      5360\n",
            "   macro avg       0.77      0.87      0.77      5360\n",
            "weighted avg       0.96      0.95      0.95      5360\n",
            "\n",
            "Accuracy of IDS: 0.9455223880597015\n",
            "Precision of IDS: 0.9565899628295303\n",
            "Recall of IDS: 0.9455223880597015\n",
            "Average F1 of IDS: 0.9494367207044294\n",
            "F1 of Logistic Regression based IDS for each type of attack: [0.96201475 0.90352941 0.30232558 0.95308642 0.46153846 0.90612245\n",
            " 0.93287827]\n"
          ]
        }
      ]
    },
    {
      "cell_type": "code",
      "source": [
        "# Evaluate the performance of Ensemble Model\n",
        "print(\"Extreme Gradient Boosting: \")\n",
        "print(classification_report(y_test, y_pred))\n",
        "print(\"Accuracy of IDS: \" + str(accuracy_score(y_test, y_pred)))\n",
        "print(\"Precision of IDS: \" + str(precision_score(y_test, y_pred, average='weighted')))\n",
        "print(\"Recall of IDS: \" + str(recall_score(y_test, y_pred, average='weighted')))\n",
        "print(\"Average F1 of IDS: \" + str(f1_score(y_test, y_pred, average='weighted')))\n",
        "print(\"F1 of Ensembled Model IDS for each type of attack: \" + str(f1_score(y_test, y_pred, average=None)))"
      ],
      "metadata": {
        "colab": {
          "base_uri": "https://localhost:8080/"
        },
        "id": "oFeQnMv4JRl7",
        "outputId": "2aab7d00-f6b2-4658-ae8c-5bb9dcd4d015"
      },
      "execution_count": 19,
      "outputs": [
        {
          "output_type": "stream",
          "name": "stdout",
          "text": [
            "Extreme Gradient Boosting: \n",
            "              precision    recall  f1-score   support\n",
            "\n",
            "           0       1.00      1.00      1.00      3656\n",
            "           1       0.99      0.99      0.99       387\n",
            "           2       1.00      1.00      1.00        14\n",
            "           3       1.00      1.00      1.00       612\n",
            "           4       1.00      0.75      0.86         8\n",
            "           5       0.99      1.00      0.99       231\n",
            "           6       1.00      1.00      1.00       452\n",
            "\n",
            "    accuracy                           1.00      5360\n",
            "   macro avg       1.00      0.96      0.98      5360\n",
            "weighted avg       1.00      1.00      1.00      5360\n",
            "\n",
            "Accuracy of IDS: 0.9975746268656717\n",
            "Precision of IDS: 0.9975785111962567\n",
            "Recall of IDS: 0.9975746268656717\n",
            "Average F1 of IDS: 0.9975484116918976\n",
            "F1 of Ensembled Model IDS for each type of attack: [0.99835931 0.99222798 1.         0.99918367 0.85714286 0.99137931\n",
            " 0.99889258]\n"
          ]
        }
      ]
    },
    {
      "cell_type": "code",
      "source": [
        "# Get the unique attack types\n",
        "attack_types = df['Label'].unique()"
      ],
      "metadata": {
        "id": "lwpQ4VZDJThm"
      },
      "execution_count": 20,
      "outputs": []
    },
    {
      "cell_type": "code",
      "source": [
        "# Create a dictionary to map attack labels to attack types\n",
        "label_to_attack = dict(zip(range(len(attack_types)), attack_types))"
      ],
      "metadata": {
        "id": "3MaUA_vrJWhw"
      },
      "execution_count": 21,
      "outputs": []
    },
    {
      "cell_type": "code",
      "source": [
        "# Map the predicted labels to attack types\n",
        "predicted_attacks = [label_to_attack[label] for label in y_pred]"
      ],
      "metadata": {
        "id": "-b9VgkeXJg0I"
      },
      "execution_count": 22,
      "outputs": []
    },
    {
      "cell_type": "code",
      "source": [
        "# Map the true labels to attack types\n",
        "true_attacks = [label_to_attack[label] for label in y_test]"
      ],
      "metadata": {
        "id": "xTqpw8HEJi-u"
      },
      "execution_count": 23,
      "outputs": []
    },
    {
      "cell_type": "code",
      "source": [
        "# Display the predicted and true attack types\n",
        "print(\"Predicted Attacks:\", predicted_attacks)\n",
        "print(\"True Attacks:     \", true_attacks)"
      ],
      "metadata": {
        "colab": {
          "base_uri": "https://localhost:8080/"
        },
        "id": "JYncwW7pJmiR",
        "outputId": "44c2e1db-8746-4677-e4c4-c7bf9d5022ae"
      },
      "execution_count": 24,
      "outputs": [
        {
          "output_type": "stream",
          "name": "stdout",
          "text": [
            "Predicted Attacks: [0, 3, 0, 2, 0, 2, 3, 6, 0, 6, 0, 0, 0, 0, 0, 0, 0, 0, 6, 0, 4, 0, 0, 2, 0, 0, 0, 0, 0, 2, 3, 0, 4, 3, 0, 6, 0, 0, 0, 0, 0, 0, 0, 6, 0, 6, 0, 0, 0, 0, 0, 0, 2, 0, 6, 0, 0, 0, 0, 4, 0, 0, 0, 0, 0, 3, 0, 3, 4, 0, 0, 0, 0, 0, 4, 2, 6, 0, 0, 0, 0, 0, 0, 0, 0, 6, 3, 3, 0, 0, 2, 0, 0, 0, 0, 0, 0, 2, 4, 0, 0, 2, 0, 2, 0, 0, 0, 0, 0, 0, 3, 0, 0, 0, 0, 2, 0, 0, 6, 0, 0, 0, 0, 0, 0, 0, 0, 0, 0, 0, 4, 0, 0, 0, 6, 0, 0, 0, 0, 6, 0, 0, 0, 0, 2, 0, 0, 0, 0, 0, 3, 6, 3, 0, 2, 0, 0, 0, 0, 0, 0, 3, 0, 0, 0, 0, 0, 0, 0, 0, 0, 0, 0, 0, 0, 0, 6, 2, 0, 0, 0, 0, 0, 0, 0, 2, 6, 2, 3, 0, 6, 6, 0, 0, 0, 0, 0, 4, 0, 6, 0, 0, 5, 0, 0, 2, 0, 6, 3, 6, 6, 0, 0, 0, 0, 0, 6, 0, 0, 4, 2, 6, 3, 0, 2, 0, 3, 2, 0, 2, 0, 3, 0, 2, 0, 0, 0, 3, 0, 0, 0, 0, 6, 3, 0, 0, 0, 6, 0, 0, 6, 0, 0, 0, 3, 0, 0, 0, 0, 0, 0, 0, 0, 0, 3, 2, 3, 0, 0, 0, 0, 2, 2, 2, 0, 6, 0, 6, 2, 2, 0, 0, 0, 2, 0, 0, 0, 3, 0, 0, 4, 6, 0, 4, 0, 0, 6, 6, 2, 0, 0, 0, 3, 0, 6, 0, 0, 2, 6, 3, 0, 2, 0, 0, 0, 0, 4, 0, 0, 0, 4, 0, 0, 2, 0, 2, 6, 2, 0, 6, 4, 0, 0, 3, 0, 6, 0, 3, 0, 3, 3, 0, 0, 0, 0, 0, 0, 2, 2, 0, 0, 0, 3, 0, 0, 0, 0, 0, 0, 0, 0, 0, 0, 0, 0, 0, 0, 0, 2, 0, 2, 3, 0, 0, 0, 2, 2, 6, 0, 0, 4, 0, 3, 2, 3, 4, 0, 2, 0, 0, 4, 0, 2, 2, 0, 2, 0, 0, 0, 0, 0, 0, 0, 6, 0, 4, 0, 0, 4, 2, 0, 4, 6, 0, 0, 0, 0, 3, 0, 0, 4, 4, 4, 4, 0, 0, 6, 0, 0, 0, 0, 2, 0, 0, 0, 0, 0, 0, 0, 2, 0, 0, 2, 0, 4, 0, 0, 0, 0, 0, 2, 0, 4, 6, 0, 2, 4, 0, 0, 0, 2, 0, 0, 3, 0, 3, 0, 0, 5, 0, 2, 0, 2, 0, 6, 0, 4, 0, 6, 0, 0, 0, 0, 0, 0, 0, 6, 0, 2, 4, 0, 0, 0, 0, 3, 0, 0, 6, 0, 4, 0, 2, 6, 3, 0, 0, 0, 0, 0, 0, 0, 2, 0, 2, 0, 0, 0, 0, 0, 4, 2, 0, 0, 6, 4, 2, 0, 0, 3, 2, 0, 0, 0, 0, 0, 0, 0, 0, 0, 0, 0, 0, 0, 0, 6, 0, 0, 0, 0, 0, 0, 4, 2, 0, 6, 0, 0, 0, 0, 0, 0, 0, 2, 0, 6, 3, 0, 0, 0, 0, 2, 0, 0, 0, 2, 0, 0, 0, 0, 6, 0, 2, 2, 0, 0, 0, 0, 0, 3, 0, 0, 0, 2, 2, 0, 0, 3, 0, 0, 0, 2, 0, 0, 0, 0, 0, 0, 0, 0, 6, 2, 0, 3, 2, 0, 6, 0, 2, 3, 0, 3, 3, 0, 3, 0, 0, 0, 0, 0, 3, 0, 6, 0, 2, 0, 4, 0, 0, 0, 0, 0, 0, 2, 0, 0, 0, 0, 0, 0, 0, 0, 0, 0, 0, 6, 0, 0, 0, 0, 0, 0, 3, 0, 0, 0, 0, 2, 0, 2, 2, 0, 3, 4, 0, 0, 0, 2, 0, 0, 0, 0, 6, 2, 6, 6, 2, 0, 0, 2, 2, 0, 0, 0, 0, 0, 0, 2, 0, 0, 3, 0, 0, 0, 0, 3, 0, 0, 2, 0, 0, 0, 6, 6, 0, 0, 0, 0, 2, 0, 0, 6, 2, 0, 0, 0, 0, 0, 6, 0, 3, 0, 0, 0, 0, 0, 0, 0, 0, 3, 0, 0, 2, 0, 0, 0, 0, 0, 0, 6, 3, 0, 2, 0, 0, 4, 2, 0, 3, 0, 0, 2, 0, 0, 6, 0, 0, 6, 0, 2, 0, 4, 0, 2, 0, 0, 2, 4, 0, 0, 0, 0, 2, 2, 0, 0, 0, 2, 6, 0, 0, 3, 0, 6, 0, 0, 0, 0, 0, 0, 0, 0, 0, 0, 0, 2, 2, 0, 0, 0, 0, 0, 0, 0, 0, 0, 0, 0, 0, 0, 6, 0, 4, 0, 3, 2, 2, 0, 0, 0, 3, 0, 0, 2, 0, 0, 0, 0, 2, 2, 0, 6, 3, 0, 0, 6, 5, 0, 3, 0, 0, 6, 0, 2, 0, 0, 3, 6, 3, 3, 0, 0, 0, 0, 4, 0, 0, 4, 0, 0, 0, 0, 2, 0, 2, 6, 4, 3, 0, 2, 2, 0, 0, 0, 3, 2, 0, 0, 3, 3, 6, 0, 0, 0, 0, 0, 0, 0, 0, 2, 2, 0, 0, 0, 0, 0, 3, 0, 3, 0, 0, 0, 0, 0, 0, 2, 0, 0, 0, 3, 0, 0, 6, 4, 4, 0, 0, 2, 2, 0, 0, 0, 0, 0, 3, 0, 0, 0, 0, 2, 0, 0, 3, 0, 0, 6, 0, 0, 2, 0, 0, 0, 2, 0, 0, 0, 0, 0, 0, 0, 0, 0, 0, 0, 0, 0, 0, 6, 2, 0, 3, 0, 3, 3, 0, 0, 0, 0, 2, 2, 0, 0, 3, 0, 0, 0, 0, 0, 4, 2, 0, 0, 2, 6, 6, 0, 0, 2, 3, 0, 0, 0, 0, 0, 4, 6, 0, 0, 0, 0, 0, 4, 0, 0, 0, 0, 0, 3, 0, 0, 0, 4, 2, 6, 0, 2, 0, 2, 0, 6, 0, 0, 0, 2, 0, 4, 0, 0, 6, 0, 0, 0, 0, 0, 3, 0, 0, 0, 3, 0, 6, 0, 0, 6, 0, 2, 6, 0, 0, 0, 2, 0, 0, 0, 0, 0, 2, 0, 0, 2, 0, 0, 0, 0, 3, 0, 0, 6, 0, 0, 3, 0, 0, 0, 6, 4, 0, 0, 0, 0, 0, 0, 0, 3, 2, 0, 3, 0, 0, 0, 0, 4, 0, 0, 0, 0, 0, 0, 0, 3, 0, 2, 0, 0, 0, 2, 6, 0, 3, 0, 0, 6, 0, 0, 0, 0, 0, 0, 0, 0, 2, 0, 2, 0, 6, 0, 6, 0, 0, 0, 0, 0, 0, 0, 4, 6, 2, 0, 0, 0, 2, 0, 0, 0, 6, 3, 0, 0, 3, 0, 4, 2, 0, 0, 0, 0, 0, 3, 4, 0, 0, 2, 0, 2, 2, 0, 0, 0, 0, 0, 0, 0, 0, 0, 0, 6, 6, 0, 0, 3, 0, 2, 0, 0, 0, 0, 0, 6, 0, 6, 6, 0, 0, 0, 0, 0, 0, 6, 0, 0, 0, 3, 4, 0, 3, 0, 0, 2, 2, 0, 0, 3, 0, 0, 2, 6, 0, 0, 0, 0, 0, 6, 3, 0, 0, 3, 0, 0, 3, 0, 0, 6, 2, 0, 0, 0, 0, 0, 0, 0, 0, 0, 0, 0, 0, 2, 6, 2, 0, 2, 6, 0, 0, 0, 6, 0, 0, 6, 0, 0, 6, 0, 2, 0, 0, 0, 2, 0, 0, 0, 0, 0, 0, 0, 0, 0, 2, 0, 3, 0, 0, 0, 2, 0, 0, 0, 0, 0, 0, 0, 0, 2, 3, 0, 0, 0, 2, 2, 0, 0, 2, 0, 3, 1, 0, 0, 0, 0, 0, 0, 2, 2, 2, 0, 0, 4, 2, 0, 0, 2, 6, 0, 6, 3, 0, 2, 0, 0, 0, 2, 0, 0, 0, 6, 4, 0, 0, 0, 0, 0, 4, 2, 0, 0, 3, 0, 0, 6, 0, 6, 6, 6, 0, 2, 0, 6, 2, 0, 6, 0, 0, 3, 0, 0, 0, 0, 0, 0, 0, 0, 0, 0, 0, 0, 6, 0, 2, 0, 0, 0, 2, 0, 0, 1, 3, 0, 6, 0, 4, 6, 0, 0, 0, 0, 0, 0, 0, 0, 0, 0, 3, 0, 2, 6, 0, 0, 0, 4, 2, 4, 0, 6, 0, 6, 0, 0, 6, 3, 0, 0, 2, 0, 2, 0, 3, 0, 0, 0, 0, 0, 0, 2, 6, 2, 0, 2, 6, 6, 0, 0, 0, 0, 0, 0, 0, 2, 0, 4, 0, 0, 3, 0, 0, 4, 0, 0, 2, 0, 2, 0, 0, 0, 0, 0, 5, 3, 0, 0, 0, 0, 0, 0, 0, 0, 6, 2, 0, 0, 3, 0, 0, 4, 3, 0, 0, 3, 0, 0, 6, 0, 4, 0, 0, 0, 0, 0, 6, 0, 0, 0, 0, 4, 0, 0, 0, 2, 0, 0, 0, 0, 0, 0, 0, 3, 3, 0, 0, 6, 0, 0, 0, 0, 0, 0, 4, 0, 0, 6, 2, 0, 0, 4, 0, 0, 0, 2, 0, 0, 0, 2, 0, 2, 1, 0, 0, 4, 0, 0, 0, 2, 0, 2, 2, 2, 0, 0, 0, 0, 0, 6, 3, 0, 0, 0, 0, 0, 3, 0, 0, 2, 0, 0, 6, 0, 0, 0, 6, 0, 0, 0, 0, 0, 2, 0, 0, 4, 0, 3, 0, 0, 0, 0, 0, 0, 0, 0, 2, 2, 0, 0, 0, 4, 2, 0, 0, 3, 0, 0, 0, 0, 2, 6, 0, 0, 0, 0, 0, 2, 0, 4, 0, 0, 0, 0, 0, 0, 0, 0, 6, 6, 6, 6, 0, 0, 0, 0, 0, 0, 2, 0, 6, 3, 6, 0, 6, 0, 0, 0, 0, 3, 0, 2, 0, 0, 0, 0, 0, 0, 0, 0, 0, 6, 0, 2, 2, 0, 2, 0, 2, 3, 2, 2, 0, 0, 0, 0, 0, 0, 6, 3, 0, 0, 0, 0, 0, 4, 0, 4, 0, 0, 0, 0, 0, 0, 0, 0, 0, 0, 0, 2, 0, 0, 0, 3, 0, 0, 0, 0, 0, 4, 0, 0, 0, 0, 3, 2, 3, 6, 3, 0, 3, 3, 6, 2, 0, 6, 0, 0, 2, 0, 6, 6, 0, 2, 0, 0, 0, 2, 0, 4, 3, 2, 0, 0, 0, 0, 0, 0, 0, 4, 6, 3, 2, 0, 3, 2, 0, 3, 4, 0, 2, 0, 0, 0, 0, 4, 0, 0, 0, 0, 0, 0, 0, 0, 0, 0, 0, 0, 2, 0, 0, 0, 0, 0, 2, 0, 6, 2, 0, 0, 0, 6, 0, 0, 0, 4, 2, 2, 0, 0, 0, 0, 0, 0, 6, 0, 0, 0, 3, 0, 0, 2, 0, 0, 6, 6, 0, 2, 0, 0, 0, 4, 2, 2, 0, 0, 0, 0, 0, 0, 0, 0, 0, 2, 0, 0, 0, 0, 0, 2, 0, 0, 0, 2, 6, 0, 6, 0, 3, 0, 0, 4, 0, 2, 4, 0, 0, 2, 6, 2, 2, 0, 0, 0, 0, 3, 0, 0, 0, 0, 0, 0, 0, 0, 4, 0, 0, 0, 0, 0, 0, 0, 3, 0, 0, 0, 0, 0, 3, 0, 0, 0, 0, 2, 0, 2, 0, 0, 0, 3, 3, 0, 3, 0, 0, 0, 0, 0, 2, 6, 3, 0, 3, 3, 0, 0, 2, 0, 0, 0, 0, 0, 4, 0, 0, 0, 6, 0, 4, 0, 0, 0, 0, 0, 0, 0, 0, 0, 0, 4, 0, 0, 6, 6, 0, 0, 4, 4, 0, 4, 2, 6, 0, 0, 0, 3, 0, 0, 0, 2, 0, 2, 0, 0, 0, 6, 2, 2, 0, 4, 0, 0, 0, 2, 2, 0, 0, 0, 0, 0, 2, 0, 0, 6, 0, 0, 0, 0, 0, 6, 2, 0, 0, 0, 0, 0, 0, 0, 0, 0, 6, 0, 6, 6, 0, 0, 0, 0, 0, 0, 0, 0, 6, 0, 0, 2, 6, 0, 0, 0, 0, 0, 0, 0, 0, 0, 0, 0, 4, 0, 0, 6, 0, 3, 0, 2, 0, 3, 0, 2, 0, 0, 0, 6, 0, 0, 0, 4, 3, 0, 0, 0, 4, 0, 2, 0, 2, 6, 0, 3, 6, 3, 0, 2, 0, 0, 0, 0, 2, 3, 0, 0, 0, 0, 0, 3, 0, 0, 0, 2, 0, 0, 6, 0, 3, 0, 0, 0, 6, 0, 0, 4, 4, 6, 0, 0, 0, 0, 0, 0, 0, 0, 0, 3, 0, 0, 0, 0, 0, 0, 0, 0, 6, 0, 2, 6, 0, 0, 0, 3, 0, 2, 0, 4, 0, 0, 0, 0, 0, 0, 3, 0, 0, 0, 0, 0, 0, 0, 0, 0, 0, 6, 0, 0, 3, 0, 0, 0, 0, 0, 0, 2, 0, 0, 0, 0, 0, 2, 0, 3, 0, 0, 0, 0, 0, 0, 2, 2, 6, 0, 2, 0, 4, 0, 0, 4, 0, 0, 0, 0, 4, 0, 0, 3, 0, 0, 0, 4, 0, 0, 0, 6, 0, 0, 2, 0, 0, 0, 0, 0, 3, 6, 0, 3, 3, 0, 0, 0, 6, 0, 0, 0, 0, 3, 2, 0, 0, 2, 0, 0, 6, 0, 6, 0, 3, 6, 3, 2, 4, 0, 0, 0, 0, 0, 4, 0, 0, 3, 2, 0, 0, 0, 0, 0, 2, 6, 0, 4, 2, 0, 0, 0, 0, 0, 4, 0, 0, 0, 0, 3, 0, 2, 0, 0, 0, 0, 0, 0, 0, 4, 0, 2, 0, 0, 0, 0, 0, 0, 0, 6, 6, 0, 0, 0, 0, 6, 2, 0, 0, 3, 0, 0, 3, 0, 0, 2, 2, 0, 2, 0, 0, 0, 3, 0, 0, 0, 0, 0, 2, 3, 0, 0, 0, 0, 4, 0, 2, 3, 3, 4, 0, 0, 0, 0, 5, 0, 6, 0, 0, 0, 0, 0, 0, 0, 2, 3, 0, 0, 0, 3, 0, 6, 6, 0, 0, 0, 4, 0, 0, 0, 0, 3, 2, 3, 6, 0, 0, 0, 0, 0, 2, 6, 0, 0, 0, 6, 3, 0, 2, 0, 0, 0, 6, 0, 4, 0, 4, 0, 0, 0, 5, 3, 0, 4, 2, 0, 4, 2, 0, 2, 0, 0, 0, 0, 0, 0, 0, 3, 0, 0, 0, 0, 0, 0, 0, 0, 2, 6, 0, 3, 0, 0, 0, 3, 0, 2, 0, 0, 2, 0, 0, 6, 0, 3, 0, 3, 0, 0, 0, 0, 0, 1, 0, 0, 6, 0, 2, 6, 0, 4, 0, 0, 3, 0, 2, 0, 0, 6, 0, 0, 0, 0, 0, 3, 0, 0, 0, 0, 0, 3, 0, 6, 0, 0, 0, 6, 2, 0, 0, 0, 0, 0, 0, 0, 2, 0, 0, 0, 0, 0, 0, 0, 3, 2, 0, 0, 0, 0, 3, 6, 2, 0, 6, 3, 4, 0, 0, 0, 0, 0, 0, 0, 0, 0, 0, 3, 0, 2, 0, 2, 4, 0, 6, 0, 0, 4, 0, 0, 0, 0, 0, 0, 0, 0, 0, 0, 0, 0, 0, 3, 0, 0, 0, 0, 0, 0, 0, 0, 0, 0, 0, 0, 0, 0, 0, 0, 0, 0, 0, 0, 0, 0, 2, 0, 0, 0, 0, 0, 3, 0, 1, 0, 0, 0, 0, 6, 3, 0, 2, 0, 0, 2, 0, 0, 0, 0, 0, 0, 0, 0, 0, 6, 0, 0, 0, 0, 0, 3, 3, 0, 3, 0, 0, 6, 4, 0, 0, 6, 0, 2, 0, 0, 0, 3, 6, 2, 2, 0, 0, 4, 4, 0, 0, 0, 2, 0, 2, 0, 0, 0, 5, 0, 0, 2, 0, 0, 0, 0, 0, 3, 0, 0, 0, 0, 0, 6, 0, 0, 2, 0, 0, 2, 0, 0, 0, 0, 0, 0, 3, 0, 0, 0, 2, 6, 0, 0, 0, 0, 2, 6, 0, 0, 3, 0, 0, 0, 0, 0, 6, 0, 0, 0, 0, 0, 0, 0, 0, 0, 6, 0, 0, 3, 2, 0, 0, 0, 0, 0, 0, 0, 0, 6, 2, 2, 0, 2, 0, 0, 0, 0, 6, 0, 0, 0, 0, 0, 0, 3, 0, 0, 0, 2, 5, 0, 0, 0, 0, 6, 2, 0, 0, 0, 0, 0, 0, 0, 3, 6, 0, 0, 0, 4, 0, 0, 0, 0, 4, 0, 0, 0, 0, 6, 0, 6, 4, 3, 0, 0, 0, 0, 0, 0, 0, 0, 0, 0, 6, 0, 0, 3, 0, 0, 3, 0, 0, 0, 0, 0, 2, 0, 0, 0, 4, 0, 4, 0, 0, 2, 2, 4, 0, 0, 0, 0, 6, 0, 0, 0, 3, 0, 0, 6, 6, 0, 0, 0, 4, 4, 0, 0, 5, 0, 6, 0, 3, 6, 0, 2, 0, 0, 2, 0, 0, 0, 4, 0, 0, 3, 6, 0, 0, 0, 0, 0, 0, 0, 4, 0, 6, 4, 0, 0, 3, 0, 0, 0, 0, 0, 0, 0, 2, 0, 0, 6, 0, 6, 0, 0, 3, 0, 0, 3, 0, 0, 0, 0, 2, 3, 0, 0, 0, 3, 0, 6, 0, 4, 0, 0, 0, 0, 0, 3, 6, 0, 0, 0, 0, 2, 2, 0, 0, 0, 0, 6, 0, 0, 0, 3, 0, 0, 0, 0, 0, 0, 2, 0, 0, 0, 0, 0, 4, 3, 0, 6, 4, 0, 0, 3, 2, 0, 0, 0, 0, 0, 0, 2, 0, 6, 0, 0, 0, 0, 0, 0, 2, 0, 0, 0, 0, 6, 0, 0, 3, 2, 0, 0, 3, 6, 0, 0, 0, 4, 0, 0, 0, 6, 0, 2, 2, 0, 0, 5, 0, 2, 6, 0, 0, 2, 0, 0, 0, 2, 0, 0, 0, 0, 2, 6, 0, 0, 2, 0, 0, 0, 0, 2, 0, 0, 0, 6, 2, 0, 0, 0, 4, 0, 0, 3, 0, 0, 0, 0, 0, 0, 0, 0, 0, 0, 0, 0, 0, 0, 0, 0, 0, 0, 0, 0, 4, 0, 2, 0, 0, 0, 0, 0, 0, 0, 0, 0, 0, 4, 0, 0, 6, 2, 0, 3, 0, 0, 0, 0, 2, 0, 0, 0, 0, 3, 6, 0, 0, 0, 0, 0, 3, 0, 0, 0, 2, 0, 2, 0, 2, 0, 0, 0, 0, 0, 0, 4, 0, 0, 6, 0, 0, 3, 0, 4, 0, 0, 0, 3, 0, 6, 0, 4, 0, 0, 0, 2, 0, 0, 0, 2, 4, 0, 2, 2, 4, 0, 4, 2, 0, 0, 0, 2, 0, 2, 0, 0, 0, 6, 0, 6, 0, 2, 0, 0, 0, 0, 6, 0, 6, 0, 0, 0, 0, 0, 0, 0, 2, 0, 6, 0, 2, 0, 0, 0, 6, 0, 0, 4, 0, 0, 0, 0, 0, 0, 0, 6, 3, 0, 2, 0, 0, 0, 4, 0, 0, 2, 0, 0, 0, 0, 0, 0, 2, 0, 0, 0, 0, 0, 6, 0, 0, 0, 0, 3, 0, 0, 6, 6, 2, 2, 0, 0, 0, 0, 0, 2, 6, 0, 0, 0, 0, 0, 6, 0, 6, 3, 0, 6, 0, 0, 3, 0, 0, 0, 0, 0, 0, 2, 0, 0, 6, 2, 0, 0, 3, 0, 3, 0, 6, 0, 0, 0, 0, 3, 0, 0, 0, 2, 3, 6, 0, 0, 3, 2, 0, 0, 3, 6, 2, 2, 6, 0, 0, 2, 2, 0, 6, 0, 0, 4, 0, 2, 6, 0, 0, 2, 3, 0, 0, 0, 3, 2, 6, 0, 3, 0, 0, 0, 6, 0, 0, 0, 0, 0, 2, 3, 0, 0, 0, 0, 4, 0, 2, 0, 0, 0, 0, 4, 0, 0, 0, 3, 4, 0, 6, 2, 0, 0, 0, 3, 0, 0, 5, 0, 3, 0, 0, 0, 0, 0, 0, 0, 0, 0, 0, 3, 0, 0, 4, 0, 0, 0, 0, 0, 2, 2, 2, 0, 6, 0, 2, 0, 0, 0, 0, 0, 0, 0, 2, 0, 0, 6, 0, 4, 0, 0, 0, 0, 2, 0, 0, 0, 4, 3, 2, 0, 0, 6, 2, 0, 2, 0, 0, 6, 0, 0, 2, 0, 3, 4, 0, 0, 0, 0, 0, 0, 0, 0, 6, 0, 2, 3, 0, 0, 6, 0, 4, 0, 4, 0, 0, 0, 0, 0, 2, 0, 0, 6, 0, 0, 0, 0, 6, 0, 0, 2, 4, 0, 3, 2, 0, 0, 2, 0, 0, 0, 0, 0, 0, 3, 0, 0, 3, 0, 0, 0, 3, 6, 0, 0, 2, 0, 0, 2, 0, 0, 0, 0, 0, 6, 0, 0, 2, 2, 0, 0, 2, 6, 2, 0, 0, 0, 2, 0, 6, 0, 0, 6, 0, 0, 0, 0, 0, 0, 0, 2, 0, 0, 0, 2, 3, 0, 0, 0, 0, 0, 0, 0, 0, 0, 0, 3, 0, 0, 0, 0, 0, 6, 0, 0, 3, 0, 0, 0, 0, 2, 0, 2, 0, 0, 2, 2, 0, 0, 0, 0, 0, 0, 6, 6, 0, 0, 0, 6, 6, 0, 0, 0, 2, 0, 2, 0, 2, 0, 2, 0, 0, 6, 0, 0, 0, 0, 0, 6, 3, 4, 0, 0, 4, 2, 0, 0, 0, 3, 0, 0, 3, 0, 0, 0, 0, 2, 0, 0, 0, 0, 0, 0, 6, 0, 2, 2, 0, 0, 0, 3, 0, 0, 0, 0, 2, 6, 0, 0, 0, 0, 0, 0, 2, 0, 0, 4, 6, 0, 0, 0, 2, 6, 0, 0, 0, 4, 0, 0, 0, 0, 0, 2, 2, 6, 0, 0, 0, 0, 2, 0, 0, 0, 0, 2, 0, 0, 0, 0, 0, 0, 0, 0, 0, 0, 2, 0, 4, 0, 0, 4, 0, 0, 0, 0, 2, 0, 6, 0, 0, 0, 0, 0, 2, 0, 2, 3, 0, 2, 0, 0, 0, 0, 0, 0, 0, 0, 0, 2, 0, 0, 0, 0, 0, 0, 0, 0, 2, 3, 0, 0, 0, 0, 6, 6, 0, 0, 0, 0, 0, 4, 0, 2, 0, 4, 0, 0, 3, 0, 3, 0, 0, 4, 0, 6, 3, 0, 0, 3, 0, 3, 6, 6, 0, 0, 0, 0, 0, 2, 0, 2, 3, 6, 0, 0, 6, 2, 0, 2, 2, 2, 0, 0, 0, 0, 0, 2, 0, 2, 0, 4, 3, 0, 2, 6, 6, 0, 0, 0, 0, 6, 0, 2, 0, 0, 0, 3, 0, 3, 0, 2, 2, 0, 0, 4, 3, 4, 0, 6, 0, 0, 0, 0, 0, 3, 0, 0, 0, 0, 0, 0, 0, 0, 0, 4, 0, 2, 2, 0, 2, 0, 0, 0, 0, 0, 0, 2, 0, 0, 0, 0, 0, 0, 0, 0, 0, 0, 0, 0, 0, 0, 0, 0, 0, 0, 2, 6, 4, 0, 0, 0, 0, 3, 0, 0, 2, 4, 6, 4, 4, 6, 3, 2, 0, 4, 0, 0, 0, 0, 0, 0, 0, 0, 2, 2, 0, 6, 3, 0, 0, 4, 2, 0, 0, 0, 6, 0, 0, 6, 0, 6, 0, 0, 0, 2, 0, 0, 0, 0, 0, 0, 0, 0, 2, 2, 0, 6, 4, 0, 0, 0, 0, 4, 0, 2, 0, 0, 0, 2, 3, 0, 4, 0, 0, 4, 2, 0, 0, 2, 0, 0, 0, 0, 0, 6, 0, 0, 0, 2, 0, 0, 0, 0, 4, 0, 4, 0, 4, 0, 0, 0, 0, 0, 0, 6, 6, 0, 2, 3, 0, 0, 0, 0, 4, 2, 0, 0, 0, 0, 0, 0, 6, 2, 3, 0, 2, 0, 6, 3, 0, 2, 0, 3, 0, 2, 0, 0, 0, 0, 6, 0, 0, 4, 0, 0, 0, 0, 4, 6, 0, 0, 0, 2, 2, 0, 2, 2, 0, 6, 3, 0, 4, 0, 0, 0, 6, 0, 2, 2, 0, 0, 0, 0, 0, 2, 6, 0, 0, 0, 0, 6, 3, 6, 0, 6, 0, 3, 6, 0, 0, 0, 2, 6, 0, 0, 0, 0, 6, 0, 2, 0, 4, 0, 4, 0, 6, 0, 0, 0, 0, 6, 0, 0, 0, 0, 0, 4, 0, 0, 3, 2, 0, 0, 0, 3, 2, 0, 6, 0, 0, 2, 3, 0, 2, 5, 0, 0, 6, 6, 6, 0, 2, 0, 0, 0, 0, 0, 0, 0, 2, 0, 0, 2, 0, 2, 0, 0, 6, 0, 0, 4, 0, 0, 2, 0, 0, 0, 0, 0, 0, 3, 6, 0, 6, 2, 0, 0, 2, 6, 0, 0, 0, 0, 0, 0, 0, 0, 0, 0, 0, 0, 0, 2, 6, 0, 0, 0, 2, 0, 0, 0, 0, 0, 0, 0, 0, 0, 2, 0, 0, 0, 2, 0, 0, 0, 6, 0, 2, 4, 3, 2, 0, 0, 0, 0, 3, 0, 2, 3, 0, 0, 0, 3, 0, 0, 0, 2, 0, 0, 0, 3, 0, 0, 0, 2, 0, 0, 0, 2, 3, 0, 0, 0, 4, 0, 6, 6, 3, 2, 0, 6, 0, 2, 0, 0, 6, 2, 0, 0, 0, 0, 3, 4, 4, 4, 6, 0, 6, 0, 2, 0, 0, 3, 0, 3, 0, 0, 0, 0, 3, 0, 0, 3, 0, 2, 0, 0, 3, 0, 0, 0, 0, 0, 4, 2, 0, 0, 0, 0, 0, 0, 2, 0, 0, 4, 0, 0, 0, 0, 6, 2, 3, 6, 0, 0, 6, 0, 2, 0, 0, 0, 6, 0, 3, 0, 0, 0, 0, 0, 0, 0, 0, 3, 0, 0, 0, 0, 0, 0, 6, 0, 0, 2, 0, 0, 0, 0, 0, 0, 0, 3, 0, 3, 0, 0, 3, 0, 0, 0, 6, 2, 0, 0, 6, 0, 3, 6, 4, 0, 0, 0, 0, 4, 3, 0, 0, 0, 0, 0, 0, 0, 6, 0, 0, 0, 0, 0, 0, 0, 2, 6, 0, 3, 0, 2, 0, 0, 0, 0, 0, 3, 0, 0, 3, 0, 2, 0, 6, 6, 0, 6, 6, 0, 0, 0, 0, 0, 0, 0, 0, 0, 0, 2, 0, 0, 6, 0, 0, 4, 0, 0, 0, 0, 0, 0, 6, 0, 0, 0, 0, 0, 0, 0, 0, 0, 2, 0, 0, 0, 0, 0, 0, 0, 0, 3, 0, 6, 0, 0, 0, 0, 3, 0, 2, 0, 2, 0, 2, 0, 3, 6, 6, 0, 2, 0, 0, 0, 0, 6, 0, 0, 4, 0, 3, 0, 0, 0, 0, 3, 0, 2, 3, 0, 0, 0, 0, 0, 2, 0, 0, 0, 2, 2, 0, 0, 0, 0, 2, 3, 0, 0, 0, 0, 3, 6, 0, 5, 0, 0, 0, 0, 0, 0, 0, 0, 0, 0, 0, 0, 0, 2, 3, 0, 0, 0, 0, 0, 0, 0, 2, 0, 3, 0, 0, 0, 4, 0, 0, 0, 0, 0, 0, 6, 0, 0, 0, 0, 0, 0, 0, 2, 0, 2, 0, 0, 0, 0, 2, 0, 0, 0, 0, 0, 0, 0, 0, 4, 0, 0, 0, 0, 0, 0, 0, 4, 0, 6, 0, 0, 2, 0, 0, 0, 0, 0, 0, 0, 6, 0, 0, 0, 4, 0, 0, 2, 0, 3, 0, 2, 3, 0, 0, 0, 3, 0, 6, 0, 2, 0, 2, 0, 0, 2, 6, 6, 0, 0, 0, 0, 6, 2, 3, 6, 0, 6, 0, 0, 0, 0, 0, 0, 0, 0, 0, 0, 0, 6, 4, 0, 0, 6, 0, 0, 0, 0, 0, 0, 0, 0, 2, 2, 6, 0, 0, 0, 0, 0, 0, 0, 0, 0, 4, 0, 2, 0, 6, 0, 0, 0, 0, 0, 0, 3, 6, 0, 3, 0, 0, 0, 0, 0, 0, 0, 0, 2, 2, 3, 0, 0, 0, 0, 0, 0, 0, 0, 2, 6, 0, 0, 0, 3, 0, 4, 0, 0, 0, 3, 0, 2, 2, 0, 0, 6, 0, 6, 0, 0, 0, 3, 0, 0, 0, 0, 6, 0, 0, 0, 0, 0, 6, 0, 0, 0, 0, 2, 2, 2, 0, 3, 4, 3, 4, 0, 0, 0, 0, 3, 3, 0, 3, 0, 6, 6, 0, 0, 0, 0, 0, 2, 0, 0, 0, 0, 0, 0, 0, 2, 0, 0, 0, 0, 3, 0, 0, 0, 0, 6, 0, 0, 0, 0, 0, 0, 0, 0, 6, 0, 0, 0, 0, 0, 0, 2, 6, 0, 2, 0, 4, 0, 0, 6, 0, 0, 0, 0, 0, 0, 2, 0, 2, 0, 0, 0, 2, 6, 0, 0, 2, 0, 0, 0, 2, 0, 0, 4, 0, 0, 0, 6, 0, 0, 0, 0, 0, 6, 0, 2, 0, 0, 0, 0, 0, 0, 0, 0, 0, 6, 6, 0, 0, 0, 0, 0, 6, 2, 0, 0, 0, 2, 0, 0, 0, 0, 3, 0, 6, 0, 0, 0, 0, 0, 2, 0, 0, 3, 0, 0, 0, 6, 3, 0, 0, 6, 0, 0, 0, 0, 0, 0, 2, 0, 0, 3, 0, 3, 0, 0, 2, 0, 0, 2, 0, 2, 0, 3, 3, 0, 0, 2, 3, 0, 0, 0, 0, 0, 2, 6, 0, 0, 4, 0, 0, 0, 0, 2, 0, 0, 0, 0, 0, 0, 0, 0, 0, 0, 0, 6, 0, 0, 0, 0, 0, 3, 0, 6, 0, 0, 0, 0, 0, 0, 2, 0, 2, 0, 2, 6, 3, 6, 0, 6, 6, 2, 0, 0, 3, 0, 0, 0, 0, 0, 0, 3, 0, 0, 3, 0, 0, 0, 0, 2, 0, 2, 0, 0, 0, 3, 0, 0, 4, 0, 0, 0, 3, 0, 0, 2, 2, 0, 0, 0, 0, 0, 0, 0, 0, 0, 2, 0, 0, 0, 0, 0, 0, 0, 6, 0, 2, 0, 0, 0, 0, 6, 0, 0, 0, 0, 0, 0, 0, 2, 0, 0, 0, 6, 0, 4, 6, 0, 0, 2, 2, 0, 0, 0, 4, 0, 0, 4, 2, 0, 2, 0, 0, 6, 0, 4, 3, 0, 0, 6, 0, 0, 0, 0, 0, 2, 0, 6, 0, 0, 6, 0, 0, 0, 3, 0, 0, 0, 3, 0, 3, 2, 2, 4, 0, 3, 2, 0, 0, 0, 0, 0, 2, 0, 2, 0, 0, 0, 0, 2, 0, 0, 0, 2, 3, 0, 0, 0, 0, 0, 0, 0, 0, 0, 0, 4, 2, 0, 0, 0, 0, 0, 0, 0, 3, 0, 0, 0, 0, 2, 0, 0, 0, 0, 2, 2, 6, 3, 0, 0, 0, 0, 4, 0, 2, 0, 6, 2, 0, 3, 1, 0, 0, 0, 3, 0, 0, 0, 3, 0, 0, 0, 3, 2, 0, 3, 0, 0, 0, 0, 0, 0, 0, 0, 0, 0, 0, 2, 0, 0, 6, 0, 2, 6, 0, 0, 0, 4, 0, 0, 3, 0, 3, 0, 0, 0, 2, 6, 0, 2, 3, 2, 0, 2, 6, 0, 4, 2, 0, 0, 0, 0, 0, 0, 6, 0, 0, 4, 6, 3, 0, 0, 0, 0, 6, 0, 2, 4, 3, 2, 4, 0, 0, 2, 6, 6, 0, 0, 0, 2, 6, 0, 0, 6, 0, 0, 0, 0, 3, 0, 4, 0, 3, 0, 0, 0, 2, 0, 0, 0, 0, 2, 0, 0, 6, 0, 0, 0, 0, 0, 0, 0, 2, 0, 6, 0, 0, 0, 0, 2, 0, 0, 0, 0, 4, 0, 0, 0, 0, 0, 0, 6, 0, 0, 0, 3, 6, 2, 2, 0, 0, 0, 3, 0, 0, 0, 0, 0, 0, 0, 0, 0, 3, 0, 0, 0, 0, 0, 0, 6, 3, 0, 0, 2, 0, 2, 0, 0, 0, 0, 0, 3, 0, 0, 6, 2, 0, 2, 6, 0, 0, 3, 0, 0, 0, 0, 0, 4, 6, 0, 0, 0, 4, 0, 3, 6, 0, 0, 0, 6, 2, 0, 0, 0, 0, 0, 0, 0, 0, 0, 3, 0, 2, 6, 4, 3, 0, 6, 0, 2, 0, 0, 0, 0, 0, 0, 0, 0, 0, 0, 5, 0, 3, 0, 0, 6, 4, 3, 0, 0, 2, 3, 3, 0, 0, 0, 0, 0, 0, 0, 0, 3, 0, 0, 0, 0, 0, 0, 0, 0, 0, 0, 0, 0, 0, 0, 0, 6, 2, 0, 0]\n",
            "True Attacks:      [0, 3, 0, 2, 0, 2, 3, 6, 0, 6, 0, 0, 0, 0, 0, 0, 0, 0, 6, 0, 4, 0, 0, 2, 0, 0, 0, 0, 0, 2, 3, 0, 4, 3, 0, 6, 0, 0, 0, 0, 0, 0, 0, 6, 0, 6, 0, 0, 0, 0, 0, 0, 2, 0, 6, 0, 0, 0, 0, 4, 0, 0, 0, 0, 0, 3, 0, 3, 4, 0, 0, 0, 0, 0, 4, 2, 6, 0, 0, 0, 0, 0, 0, 0, 0, 6, 3, 3, 0, 0, 2, 0, 0, 0, 0, 0, 0, 2, 4, 0, 0, 2, 0, 2, 0, 0, 0, 0, 0, 0, 3, 0, 0, 0, 0, 2, 0, 0, 6, 0, 0, 0, 0, 0, 0, 0, 0, 0, 0, 0, 0, 0, 0, 0, 6, 0, 0, 0, 0, 6, 0, 0, 0, 0, 2, 0, 0, 0, 0, 0, 3, 6, 3, 0, 2, 0, 0, 0, 0, 0, 0, 3, 0, 0, 0, 0, 0, 0, 0, 0, 0, 0, 0, 0, 0, 0, 6, 2, 0, 0, 0, 0, 0, 0, 0, 2, 6, 2, 3, 0, 6, 6, 0, 0, 0, 0, 0, 4, 0, 6, 0, 0, 5, 0, 0, 2, 0, 6, 3, 6, 6, 0, 0, 0, 0, 0, 6, 0, 0, 4, 2, 6, 3, 0, 2, 0, 3, 2, 0, 2, 0, 3, 0, 2, 0, 0, 0, 3, 0, 0, 0, 0, 6, 3, 0, 0, 0, 6, 0, 0, 6, 0, 0, 0, 3, 0, 0, 0, 0, 0, 0, 0, 0, 0, 3, 2, 3, 0, 0, 0, 0, 2, 2, 2, 0, 6, 0, 6, 2, 2, 0, 0, 0, 2, 0, 0, 0, 3, 0, 0, 4, 6, 0, 4, 0, 0, 6, 6, 2, 0, 0, 0, 3, 0, 6, 0, 0, 2, 6, 3, 0, 2, 0, 0, 0, 0, 4, 0, 0, 0, 4, 0, 0, 2, 0, 2, 6, 2, 0, 6, 4, 0, 0, 3, 0, 6, 0, 3, 0, 3, 3, 0, 0, 0, 0, 0, 0, 2, 2, 0, 0, 0, 3, 0, 0, 0, 0, 0, 0, 0, 0, 0, 0, 0, 0, 0, 0, 0, 2, 0, 2, 3, 0, 0, 0, 2, 2, 6, 0, 0, 4, 0, 3, 2, 3, 4, 0, 2, 0, 0, 4, 0, 2, 2, 0, 2, 0, 0, 0, 0, 0, 0, 0, 6, 0, 4, 0, 0, 4, 2, 0, 4, 6, 0, 0, 0, 0, 3, 0, 0, 4, 4, 4, 4, 0, 0, 6, 0, 0, 0, 0, 2, 0, 0, 0, 0, 0, 0, 0, 2, 0, 0, 2, 0, 4, 0, 0, 0, 0, 0, 2, 0, 4, 6, 0, 2, 4, 0, 0, 0, 2, 0, 0, 3, 0, 3, 0, 0, 5, 0, 2, 0, 2, 0, 6, 0, 4, 0, 6, 0, 0, 0, 0, 0, 0, 0, 6, 0, 2, 4, 0, 0, 0, 0, 3, 0, 0, 6, 0, 4, 0, 2, 6, 3, 0, 0, 0, 0, 0, 0, 0, 2, 0, 2, 0, 0, 0, 0, 0, 4, 2, 0, 0, 6, 4, 2, 0, 0, 3, 2, 0, 0, 0, 0, 0, 0, 0, 0, 0, 0, 0, 0, 0, 0, 6, 0, 0, 0, 0, 0, 0, 4, 2, 0, 6, 0, 0, 0, 0, 0, 0, 0, 2, 0, 6, 3, 0, 0, 0, 0, 2, 0, 0, 0, 2, 0, 0, 0, 0, 6, 0, 2, 2, 0, 0, 0, 0, 0, 3, 0, 0, 0, 2, 2, 0, 0, 3, 0, 0, 0, 2, 0, 0, 0, 0, 0, 0, 0, 0, 6, 2, 0, 3, 2, 0, 6, 0, 2, 3, 0, 3, 3, 0, 3, 0, 0, 0, 0, 0, 3, 0, 6, 0, 2, 0, 4, 0, 0, 0, 0, 0, 0, 2, 0, 0, 0, 0, 0, 0, 0, 0, 0, 0, 0, 6, 0, 0, 3, 0, 0, 0, 3, 0, 0, 0, 0, 2, 0, 2, 2, 0, 3, 4, 0, 0, 0, 2, 0, 0, 0, 0, 6, 2, 6, 6, 2, 0, 0, 2, 2, 0, 0, 0, 0, 0, 0, 2, 0, 0, 3, 0, 0, 0, 0, 3, 0, 0, 2, 0, 0, 0, 6, 6, 0, 0, 0, 0, 2, 0, 0, 6, 2, 0, 0, 0, 0, 0, 6, 0, 3, 0, 0, 0, 0, 0, 0, 0, 0, 1, 0, 0, 2, 0, 0, 0, 0, 0, 0, 6, 3, 0, 2, 0, 0, 4, 2, 0, 3, 0, 0, 2, 0, 0, 6, 0, 0, 6, 0, 2, 0, 4, 0, 2, 0, 0, 2, 4, 0, 0, 0, 0, 2, 2, 0, 0, 0, 2, 6, 0, 0, 3, 0, 6, 0, 0, 0, 0, 0, 0, 0, 0, 0, 0, 0, 2, 2, 0, 0, 0, 0, 0, 0, 0, 0, 0, 0, 0, 0, 0, 6, 0, 4, 0, 3, 2, 2, 0, 0, 0, 3, 0, 0, 2, 0, 0, 0, 0, 2, 2, 0, 6, 3, 0, 0, 6, 5, 0, 3, 0, 0, 6, 0, 2, 0, 0, 3, 6, 3, 3, 0, 0, 0, 0, 4, 0, 0, 4, 0, 0, 0, 0, 2, 0, 2, 6, 4, 3, 0, 2, 2, 0, 0, 0, 3, 2, 0, 0, 3, 3, 6, 0, 0, 0, 0, 0, 0, 0, 0, 2, 2, 0, 0, 0, 0, 0, 3, 0, 3, 0, 0, 0, 0, 0, 0, 2, 0, 0, 0, 3, 0, 0, 6, 4, 4, 0, 0, 2, 2, 0, 0, 0, 0, 0, 3, 0, 0, 0, 0, 2, 0, 0, 3, 0, 0, 6, 0, 0, 2, 0, 0, 0, 2, 0, 0, 0, 0, 0, 0, 0, 0, 0, 0, 0, 0, 0, 0, 6, 2, 0, 3, 0, 3, 3, 0, 0, 0, 0, 2, 2, 0, 0, 3, 0, 0, 0, 0, 0, 4, 2, 0, 0, 2, 6, 6, 0, 0, 2, 3, 0, 0, 0, 0, 0, 4, 6, 0, 0, 0, 0, 0, 4, 0, 0, 0, 0, 0, 3, 0, 0, 0, 4, 2, 6, 0, 2, 0, 2, 0, 6, 0, 0, 0, 2, 0, 4, 0, 0, 6, 0, 0, 0, 0, 0, 3, 0, 0, 0, 3, 0, 6, 0, 0, 6, 0, 2, 6, 0, 0, 0, 2, 0, 0, 0, 0, 0, 2, 0, 0, 2, 0, 0, 0, 0, 3, 4, 0, 6, 0, 0, 3, 0, 0, 0, 6, 4, 0, 0, 0, 0, 0, 0, 0, 3, 2, 0, 3, 0, 0, 0, 0, 4, 0, 0, 0, 0, 0, 0, 0, 3, 0, 2, 0, 0, 0, 2, 6, 0, 3, 0, 0, 6, 0, 0, 0, 0, 0, 0, 0, 0, 2, 0, 2, 0, 6, 0, 6, 0, 0, 0, 0, 0, 0, 0, 4, 6, 2, 0, 0, 0, 2, 0, 0, 0, 6, 3, 0, 0, 3, 0, 4, 2, 0, 0, 0, 0, 0, 3, 4, 0, 0, 2, 0, 2, 2, 0, 0, 0, 0, 0, 0, 0, 0, 0, 0, 6, 6, 0, 0, 3, 0, 2, 0, 0, 0, 0, 0, 6, 0, 6, 6, 0, 0, 0, 0, 0, 0, 6, 0, 0, 0, 3, 4, 0, 3, 0, 0, 2, 2, 0, 0, 3, 0, 0, 2, 6, 0, 0, 0, 0, 0, 6, 3, 0, 0, 3, 0, 0, 3, 0, 0, 6, 2, 0, 0, 0, 0, 0, 0, 0, 0, 0, 0, 0, 0, 2, 6, 2, 0, 2, 6, 0, 0, 0, 6, 0, 0, 6, 0, 0, 6, 0, 2, 0, 0, 0, 2, 0, 0, 0, 0, 0, 0, 0, 0, 0, 2, 0, 3, 0, 0, 0, 2, 0, 0, 0, 0, 0, 0, 0, 0, 2, 3, 0, 0, 0, 2, 2, 0, 0, 2, 0, 3, 1, 0, 0, 0, 0, 0, 0, 2, 2, 2, 0, 0, 4, 2, 0, 0, 2, 6, 0, 6, 3, 0, 2, 0, 0, 0, 2, 0, 0, 0, 6, 4, 0, 0, 0, 0, 0, 4, 2, 0, 0, 3, 0, 0, 6, 0, 6, 6, 6, 0, 2, 0, 6, 2, 0, 6, 0, 0, 3, 0, 0, 0, 0, 0, 0, 0, 0, 0, 0, 0, 0, 6, 0, 2, 0, 0, 0, 2, 0, 0, 1, 3, 0, 6, 0, 4, 6, 0, 0, 0, 0, 0, 0, 0, 0, 0, 0, 3, 0, 2, 6, 0, 0, 0, 4, 2, 4, 0, 6, 0, 6, 0, 0, 6, 3, 0, 0, 2, 0, 2, 0, 3, 0, 0, 0, 0, 0, 0, 2, 6, 2, 0, 2, 6, 6, 0, 0, 0, 0, 0, 0, 0, 2, 0, 4, 0, 0, 3, 0, 0, 4, 0, 0, 2, 0, 2, 0, 0, 0, 0, 0, 5, 3, 0, 0, 0, 0, 0, 0, 0, 0, 6, 2, 0, 3, 3, 0, 0, 4, 3, 0, 0, 3, 0, 0, 6, 0, 4, 0, 0, 0, 0, 0, 6, 0, 0, 0, 0, 4, 0, 0, 0, 2, 0, 0, 0, 0, 0, 0, 0, 3, 3, 0, 0, 6, 0, 0, 0, 0, 0, 0, 4, 0, 0, 6, 2, 0, 0, 4, 0, 0, 0, 2, 0, 0, 0, 2, 0, 2, 1, 0, 0, 4, 0, 0, 0, 2, 0, 2, 2, 2, 0, 0, 0, 0, 0, 6, 3, 0, 0, 0, 0, 0, 3, 0, 0, 2, 0, 0, 6, 0, 0, 0, 6, 0, 0, 0, 0, 0, 2, 0, 0, 4, 0, 3, 0, 0, 0, 0, 0, 0, 0, 0, 2, 2, 0, 0, 0, 4, 2, 0, 0, 3, 0, 0, 0, 0, 2, 6, 0, 0, 0, 0, 0, 2, 0, 4, 0, 0, 0, 0, 0, 0, 0, 0, 6, 6, 6, 6, 0, 0, 0, 0, 0, 0, 2, 0, 6, 3, 6, 0, 6, 0, 0, 0, 0, 3, 0, 2, 0, 0, 0, 0, 0, 0, 0, 0, 0, 6, 0, 2, 2, 0, 2, 0, 2, 3, 2, 2, 0, 0, 0, 0, 0, 0, 6, 3, 0, 0, 0, 0, 0, 4, 0, 4, 0, 0, 0, 0, 0, 0, 0, 0, 0, 0, 0, 2, 0, 0, 0, 3, 0, 0, 0, 0, 0, 4, 0, 0, 0, 0, 3, 2, 3, 6, 3, 0, 3, 3, 6, 2, 0, 6, 0, 0, 2, 0, 6, 6, 0, 2, 0, 0, 0, 2, 0, 4, 3, 2, 0, 0, 0, 0, 0, 0, 0, 4, 6, 3, 2, 0, 3, 2, 0, 3, 4, 0, 2, 0, 0, 0, 0, 4, 0, 0, 0, 0, 0, 0, 0, 0, 0, 0, 0, 0, 2, 0, 0, 0, 0, 0, 2, 0, 6, 2, 0, 0, 0, 6, 0, 0, 0, 4, 2, 2, 0, 0, 0, 0, 0, 0, 6, 0, 0, 0, 3, 0, 0, 2, 0, 0, 6, 6, 0, 2, 0, 0, 0, 4, 2, 2, 0, 0, 0, 0, 0, 0, 0, 0, 0, 2, 0, 0, 0, 0, 0, 2, 0, 0, 0, 2, 6, 0, 6, 0, 3, 0, 0, 4, 0, 2, 4, 0, 0, 2, 6, 2, 2, 0, 0, 0, 0, 3, 0, 0, 0, 0, 0, 0, 0, 0, 4, 0, 0, 0, 0, 0, 0, 0, 3, 0, 0, 0, 0, 0, 3, 0, 0, 0, 0, 2, 0, 2, 0, 0, 0, 3, 3, 0, 3, 0, 0, 0, 0, 0, 2, 6, 3, 0, 3, 3, 0, 0, 2, 0, 0, 0, 0, 0, 4, 0, 0, 0, 6, 0, 4, 0, 0, 0, 0, 0, 0, 0, 0, 0, 0, 4, 0, 0, 6, 6, 0, 0, 4, 4, 0, 4, 2, 6, 0, 0, 0, 3, 0, 0, 0, 2, 0, 2, 0, 0, 0, 6, 2, 2, 0, 4, 0, 0, 0, 2, 2, 0, 0, 0, 0, 0, 2, 0, 0, 6, 0, 0, 0, 0, 0, 6, 2, 0, 0, 0, 0, 0, 0, 0, 0, 0, 6, 0, 6, 6, 0, 0, 0, 0, 0, 0, 0, 0, 6, 0, 0, 2, 6, 0, 0, 0, 0, 0, 0, 0, 0, 0, 0, 0, 4, 0, 0, 6, 0, 3, 0, 2, 0, 3, 0, 2, 0, 0, 0, 6, 0, 0, 0, 4, 3, 0, 0, 0, 4, 0, 2, 0, 2, 6, 0, 3, 6, 3, 0, 2, 0, 0, 0, 3, 2, 3, 0, 0, 0, 0, 0, 3, 0, 0, 0, 2, 0, 0, 6, 0, 3, 0, 0, 0, 6, 0, 0, 4, 4, 6, 0, 0, 0, 0, 0, 0, 0, 0, 0, 3, 0, 0, 0, 0, 0, 0, 0, 0, 6, 0, 2, 6, 0, 0, 0, 3, 0, 2, 0, 4, 0, 0, 0, 0, 0, 0, 3, 0, 0, 0, 0, 0, 0, 0, 0, 0, 0, 6, 0, 0, 3, 0, 0, 0, 0, 0, 0, 2, 0, 0, 0, 0, 0, 2, 0, 3, 0, 0, 0, 0, 0, 0, 2, 2, 6, 0, 2, 0, 4, 0, 0, 4, 0, 0, 0, 0, 4, 0, 0, 3, 0, 0, 0, 4, 0, 0, 0, 6, 0, 0, 2, 0, 0, 0, 0, 0, 3, 6, 0, 3, 3, 0, 0, 0, 6, 0, 0, 0, 0, 3, 2, 0, 0, 2, 0, 0, 6, 0, 6, 0, 3, 6, 3, 2, 4, 0, 0, 0, 0, 0, 4, 0, 0, 3, 2, 0, 0, 0, 0, 0, 2, 6, 0, 4, 2, 0, 0, 0, 0, 0, 4, 0, 0, 0, 0, 3, 0, 2, 0, 0, 0, 0, 0, 0, 0, 4, 0, 2, 0, 0, 0, 0, 0, 0, 0, 6, 6, 0, 0, 0, 0, 6, 2, 0, 0, 3, 0, 0, 0, 0, 0, 2, 2, 0, 2, 0, 0, 0, 3, 0, 0, 0, 0, 0, 2, 3, 0, 0, 0, 0, 4, 0, 2, 3, 3, 4, 0, 0, 0, 0, 5, 0, 6, 0, 0, 0, 0, 0, 0, 0, 2, 3, 0, 0, 0, 3, 0, 6, 6, 0, 0, 0, 4, 0, 0, 0, 0, 3, 2, 3, 6, 0, 0, 0, 0, 0, 2, 6, 0, 0, 0, 6, 3, 0, 2, 0, 0, 0, 6, 0, 4, 0, 4, 0, 0, 0, 5, 3, 0, 4, 2, 0, 4, 2, 0, 2, 0, 0, 0, 0, 0, 0, 0, 3, 0, 0, 0, 0, 0, 0, 0, 0, 2, 6, 0, 3, 0, 0, 0, 3, 0, 2, 0, 0, 2, 0, 0, 6, 0, 3, 0, 3, 0, 0, 0, 0, 0, 1, 0, 0, 6, 0, 2, 6, 0, 4, 0, 0, 3, 0, 2, 0, 0, 6, 0, 0, 0, 0, 0, 3, 0, 0, 0, 0, 0, 3, 0, 6, 0, 0, 0, 6, 2, 0, 0, 0, 0, 0, 0, 0, 2, 0, 0, 0, 0, 0, 0, 0, 3, 2, 0, 0, 0, 0, 3, 6, 2, 0, 6, 3, 4, 0, 0, 0, 0, 0, 0, 0, 0, 0, 0, 3, 0, 2, 0, 2, 4, 0, 6, 0, 0, 4, 0, 0, 0, 0, 0, 0, 0, 0, 0, 0, 0, 0, 0, 3, 0, 0, 0, 0, 0, 0, 0, 0, 0, 0, 0, 0, 0, 0, 0, 0, 0, 0, 0, 0, 0, 0, 2, 0, 0, 0, 0, 0, 3, 0, 1, 0, 0, 0, 0, 6, 3, 0, 2, 0, 0, 2, 0, 0, 0, 0, 0, 0, 0, 0, 0, 6, 0, 0, 0, 0, 0, 3, 3, 0, 3, 0, 0, 6, 4, 0, 0, 6, 0, 2, 0, 0, 0, 3, 6, 2, 2, 0, 0, 4, 4, 0, 0, 0, 2, 0, 2, 0, 0, 0, 5, 0, 0, 2, 0, 0, 0, 0, 0, 3, 0, 0, 0, 0, 0, 6, 0, 0, 2, 0, 0, 2, 0, 0, 0, 0, 0, 0, 3, 0, 0, 0, 2, 6, 0, 0, 0, 0, 2, 6, 0, 0, 3, 0, 0, 0, 0, 0, 6, 0, 0, 0, 0, 0, 0, 0, 0, 0, 6, 0, 0, 3, 2, 0, 0, 0, 0, 0, 0, 0, 0, 6, 2, 2, 0, 2, 0, 0, 0, 0, 6, 0, 0, 0, 0, 0, 0, 3, 0, 0, 0, 2, 5, 0, 0, 0, 0, 6, 2, 0, 0, 0, 0, 0, 0, 0, 3, 6, 0, 0, 0, 4, 0, 0, 0, 0, 4, 0, 0, 0, 0, 6, 0, 6, 4, 3, 0, 0, 0, 0, 0, 0, 0, 0, 0, 0, 6, 0, 0, 3, 0, 0, 3, 0, 0, 0, 0, 0, 2, 0, 0, 0, 4, 0, 4, 0, 0, 2, 2, 4, 0, 0, 0, 0, 6, 0, 0, 0, 3, 0, 0, 6, 6, 0, 0, 0, 4, 4, 0, 0, 5, 0, 6, 0, 3, 6, 0, 2, 0, 0, 2, 0, 0, 0, 4, 0, 0, 3, 6, 0, 0, 0, 0, 0, 0, 0, 4, 0, 6, 4, 0, 0, 3, 0, 0, 0, 0, 0, 0, 0, 2, 0, 0, 6, 0, 6, 0, 0, 3, 0, 0, 3, 0, 0, 0, 0, 2, 3, 0, 0, 0, 3, 0, 6, 0, 4, 0, 0, 0, 0, 0, 3, 6, 0, 0, 0, 0, 2, 2, 0, 0, 0, 0, 6, 0, 0, 0, 3, 0, 0, 0, 0, 0, 0, 2, 0, 0, 0, 0, 0, 4, 3, 0, 6, 4, 0, 0, 3, 2, 0, 0, 0, 0, 0, 0, 2, 0, 6, 0, 0, 0, 0, 0, 0, 2, 0, 0, 0, 0, 6, 0, 0, 3, 2, 0, 0, 3, 6, 0, 0, 0, 4, 0, 0, 0, 6, 0, 2, 2, 0, 0, 5, 0, 2, 6, 0, 0, 2, 0, 0, 0, 2, 0, 0, 0, 0, 2, 6, 0, 0, 2, 0, 0, 0, 0, 2, 0, 0, 0, 6, 2, 0, 0, 0, 4, 0, 0, 3, 0, 0, 0, 0, 0, 0, 0, 0, 0, 0, 0, 0, 0, 0, 0, 0, 0, 0, 0, 0, 4, 0, 2, 0, 0, 0, 0, 0, 0, 0, 0, 0, 0, 4, 0, 0, 6, 2, 0, 3, 0, 0, 0, 0, 2, 0, 0, 0, 0, 3, 6, 0, 0, 0, 0, 0, 3, 0, 0, 0, 2, 0, 2, 0, 2, 0, 0, 0, 0, 0, 0, 4, 0, 0, 6, 0, 0, 3, 0, 4, 0, 0, 0, 3, 0, 6, 0, 4, 0, 0, 0, 2, 0, 0, 0, 2, 4, 0, 2, 2, 4, 0, 4, 2, 0, 0, 0, 2, 0, 2, 0, 0, 0, 6, 0, 6, 0, 2, 0, 0, 0, 0, 6, 0, 6, 0, 0, 0, 0, 0, 0, 0, 2, 0, 6, 0, 2, 0, 0, 0, 6, 0, 0, 4, 0, 0, 0, 0, 0, 0, 0, 6, 3, 0, 2, 0, 0, 0, 4, 0, 0, 2, 0, 0, 0, 0, 0, 0, 2, 0, 0, 0, 0, 0, 6, 0, 0, 0, 0, 3, 0, 0, 6, 6, 2, 2, 0, 0, 0, 0, 0, 2, 6, 0, 0, 0, 0, 0, 6, 0, 6, 3, 0, 6, 0, 0, 3, 0, 0, 0, 0, 0, 0, 2, 0, 0, 6, 2, 0, 0, 3, 0, 3, 0, 6, 0, 0, 0, 0, 3, 0, 0, 0, 2, 3, 6, 0, 0, 3, 2, 0, 0, 3, 6, 2, 2, 6, 0, 0, 2, 2, 0, 6, 0, 0, 4, 0, 2, 6, 0, 0, 2, 3, 0, 0, 0, 3, 2, 6, 0, 3, 0, 0, 0, 6, 0, 0, 0, 0, 0, 2, 3, 0, 0, 0, 0, 4, 0, 2, 0, 0, 0, 0, 4, 0, 0, 0, 3, 4, 0, 6, 2, 0, 0, 0, 3, 0, 0, 5, 0, 3, 0, 0, 0, 0, 0, 0, 0, 0, 0, 0, 3, 0, 0, 4, 0, 0, 0, 0, 0, 2, 2, 2, 0, 6, 0, 2, 0, 0, 0, 0, 0, 0, 0, 2, 0, 0, 6, 0, 4, 0, 0, 0, 0, 2, 0, 0, 0, 4, 3, 2, 0, 0, 6, 2, 0, 2, 0, 0, 6, 0, 0, 2, 0, 3, 4, 0, 0, 0, 0, 0, 0, 0, 0, 6, 0, 2, 3, 0, 0, 6, 0, 4, 0, 4, 0, 0, 0, 0, 0, 2, 0, 0, 6, 0, 0, 0, 0, 6, 0, 0, 2, 4, 0, 3, 2, 0, 0, 2, 0, 0, 0, 0, 0, 0, 3, 0, 0, 3, 0, 0, 0, 3, 6, 0, 0, 2, 0, 0, 2, 0, 0, 0, 0, 0, 6, 0, 0, 2, 2, 0, 0, 2, 6, 2, 0, 0, 0, 2, 0, 6, 0, 0, 6, 0, 0, 0, 0, 0, 0, 0, 2, 0, 0, 0, 2, 3, 0, 0, 0, 0, 0, 0, 0, 0, 0, 0, 3, 0, 0, 0, 0, 0, 6, 0, 0, 3, 0, 0, 0, 0, 2, 0, 2, 0, 0, 2, 2, 0, 0, 0, 0, 0, 0, 6, 6, 0, 0, 0, 6, 6, 0, 0, 0, 2, 0, 2, 0, 2, 0, 2, 0, 0, 6, 0, 0, 0, 0, 0, 6, 3, 4, 0, 0, 4, 2, 0, 0, 0, 3, 0, 0, 3, 0, 0, 0, 0, 2, 0, 0, 0, 0, 0, 0, 6, 0, 2, 2, 0, 0, 0, 3, 0, 0, 0, 0, 2, 6, 0, 0, 0, 0, 0, 0, 2, 0, 0, 4, 6, 0, 0, 0, 2, 6, 0, 0, 0, 4, 0, 0, 0, 0, 0, 2, 2, 6, 0, 0, 0, 0, 2, 0, 0, 0, 0, 2, 0, 0, 0, 0, 0, 0, 0, 0, 0, 0, 2, 0, 4, 0, 0, 4, 0, 0, 0, 0, 2, 0, 6, 0, 0, 0, 0, 0, 2, 0, 2, 3, 0, 2, 0, 0, 0, 0, 0, 0, 0, 0, 0, 2, 0, 0, 0, 0, 0, 0, 0, 0, 2, 3, 0, 0, 0, 0, 6, 6, 0, 0, 0, 0, 0, 4, 0, 2, 0, 4, 0, 0, 3, 0, 3, 0, 0, 4, 0, 6, 3, 0, 0, 3, 0, 3, 6, 6, 0, 0, 0, 0, 0, 2, 0, 2, 3, 6, 0, 0, 6, 2, 0, 2, 2, 2, 0, 0, 0, 0, 0, 2, 0, 2, 0, 4, 3, 0, 2, 6, 6, 0, 0, 0, 0, 6, 0, 2, 0, 0, 0, 3, 0, 3, 0, 2, 2, 0, 0, 4, 3, 4, 0, 6, 0, 0, 0, 0, 0, 3, 0, 0, 0, 0, 0, 0, 0, 0, 0, 4, 0, 2, 2, 0, 2, 0, 0, 0, 0, 0, 0, 2, 0, 0, 0, 0, 0, 0, 0, 0, 0, 0, 0, 0, 0, 0, 0, 0, 0, 0, 2, 6, 4, 0, 0, 0, 0, 3, 0, 0, 2, 4, 6, 4, 4, 6, 3, 2, 0, 4, 0, 0, 0, 0, 0, 0, 0, 0, 2, 2, 0, 6, 3, 0, 0, 4, 2, 0, 0, 0, 6, 0, 0, 6, 0, 6, 0, 0, 0, 2, 0, 0, 0, 0, 0, 0, 0, 0, 2, 2, 0, 6, 4, 0, 0, 0, 0, 4, 0, 2, 0, 0, 0, 2, 3, 0, 4, 0, 0, 4, 2, 0, 0, 2, 0, 0, 0, 0, 0, 6, 0, 0, 0, 2, 0, 0, 0, 0, 4, 0, 0, 0, 4, 0, 0, 0, 0, 0, 0, 6, 6, 0, 2, 3, 0, 0, 1, 0, 4, 2, 0, 0, 0, 0, 0, 0, 6, 2, 3, 0, 2, 0, 6, 3, 0, 2, 0, 3, 0, 2, 0, 0, 0, 0, 6, 0, 0, 4, 0, 0, 0, 0, 4, 6, 0, 0, 0, 2, 2, 0, 2, 2, 0, 6, 3, 0, 4, 0, 0, 0, 6, 0, 2, 2, 0, 0, 0, 0, 0, 2, 6, 0, 0, 0, 0, 6, 3, 6, 0, 6, 0, 3, 6, 0, 0, 0, 2, 6, 0, 0, 0, 0, 6, 0, 2, 0, 4, 0, 4, 0, 6, 0, 0, 0, 0, 6, 0, 0, 0, 0, 0, 4, 0, 0, 3, 2, 0, 0, 0, 3, 2, 0, 6, 0, 0, 2, 3, 0, 2, 5, 0, 0, 6, 6, 6, 0, 2, 0, 0, 0, 0, 0, 0, 0, 2, 0, 0, 2, 0, 2, 0, 0, 6, 0, 0, 4, 0, 0, 2, 0, 0, 0, 0, 0, 0, 3, 6, 0, 6, 2, 0, 0, 2, 6, 0, 0, 0, 0, 0, 0, 0, 0, 0, 0, 0, 0, 0, 2, 6, 0, 0, 0, 2, 0, 0, 0, 0, 0, 0, 0, 0, 0, 2, 0, 0, 0, 2, 0, 0, 0, 6, 0, 2, 4, 3, 2, 0, 0, 0, 0, 3, 0, 2, 3, 0, 0, 0, 3, 0, 0, 0, 2, 0, 0, 0, 3, 0, 0, 0, 2, 0, 0, 0, 2, 3, 0, 0, 0, 4, 0, 6, 6, 3, 2, 0, 6, 0, 2, 0, 0, 6, 2, 0, 0, 0, 0, 3, 4, 4, 4, 6, 0, 6, 0, 2, 0, 0, 3, 0, 3, 0, 0, 0, 0, 3, 0, 0, 3, 0, 2, 0, 0, 3, 0, 0, 0, 0, 0, 4, 2, 0, 0, 0, 0, 0, 0, 2, 0, 0, 4, 0, 0, 0, 0, 6, 2, 3, 6, 0, 0, 6, 0, 2, 0, 0, 0, 6, 0, 3, 0, 0, 0, 0, 0, 0, 0, 0, 3, 0, 0, 0, 0, 0, 0, 6, 0, 0, 2, 0, 0, 0, 0, 0, 0, 0, 3, 0, 3, 0, 0, 3, 0, 0, 0, 6, 2, 0, 0, 6, 0, 3, 6, 4, 0, 0, 0, 0, 4, 3, 0, 0, 0, 0, 0, 0, 0, 6, 0, 0, 0, 0, 0, 0, 0, 2, 6, 0, 3, 0, 2, 0, 0, 0, 0, 0, 3, 0, 0, 3, 0, 2, 0, 6, 6, 0, 6, 6, 0, 0, 0, 0, 0, 0, 0, 0, 0, 0, 2, 0, 0, 6, 0, 0, 4, 0, 0, 0, 0, 0, 0, 6, 0, 0, 0, 0, 0, 0, 0, 0, 0, 2, 0, 0, 0, 0, 0, 0, 0, 0, 3, 0, 6, 0, 0, 0, 0, 3, 0, 2, 0, 2, 0, 2, 0, 3, 6, 6, 0, 2, 0, 0, 0, 0, 6, 0, 0, 4, 0, 3, 0, 0, 0, 0, 3, 0, 2, 3, 0, 0, 0, 0, 0, 2, 0, 0, 0, 2, 2, 0, 0, 0, 0, 2, 3, 0, 0, 0, 0, 3, 6, 0, 5, 0, 0, 0, 0, 0, 0, 0, 0, 0, 0, 0, 0, 0, 2, 3, 0, 0, 0, 0, 0, 0, 0, 2, 0, 3, 0, 0, 0, 4, 0, 0, 0, 0, 0, 0, 6, 0, 0, 0, 0, 0, 0, 0, 2, 0, 2, 0, 0, 0, 0, 2, 0, 0, 0, 0, 0, 0, 0, 0, 4, 0, 0, 0, 0, 0, 0, 0, 4, 0, 6, 0, 0, 2, 0, 0, 0, 0, 0, 0, 0, 6, 0, 0, 0, 4, 0, 0, 2, 0, 3, 0, 2, 3, 0, 0, 0, 3, 0, 6, 0, 2, 0, 2, 0, 0, 2, 6, 6, 0, 0, 0, 0, 6, 2, 3, 6, 0, 6, 0, 0, 0, 0, 0, 0, 0, 0, 0, 0, 0, 6, 4, 0, 0, 6, 0, 3, 0, 0, 0, 0, 0, 0, 2, 2, 6, 0, 0, 0, 0, 0, 0, 0, 0, 0, 4, 0, 2, 0, 6, 0, 0, 0, 0, 0, 0, 3, 6, 0, 3, 0, 0, 0, 0, 0, 0, 0, 0, 2, 2, 3, 0, 0, 0, 0, 0, 0, 0, 0, 2, 6, 0, 0, 0, 3, 0, 4, 0, 0, 0, 3, 0, 2, 2, 0, 0, 6, 0, 6, 0, 0, 0, 3, 0, 0, 0, 0, 6, 0, 0, 0, 6, 0, 6, 0, 0, 0, 0, 2, 2, 2, 0, 3, 4, 3, 4, 0, 0, 0, 0, 3, 3, 0, 3, 0, 6, 6, 0, 0, 0, 0, 0, 2, 0, 0, 0, 0, 0, 0, 0, 2, 0, 0, 0, 0, 3, 0, 0, 0, 0, 6, 0, 0, 0, 0, 0, 0, 0, 0, 6, 0, 0, 0, 0, 0, 0, 2, 6, 0, 2, 0, 4, 0, 0, 6, 0, 0, 0, 0, 0, 0, 2, 0, 2, 0, 0, 0, 2, 6, 0, 0, 2, 0, 0, 0, 2, 0, 0, 4, 0, 0, 0, 6, 0, 0, 0, 0, 0, 6, 0, 2, 0, 0, 0, 0, 0, 0, 0, 0, 0, 6, 6, 0, 0, 0, 0, 0, 6, 2, 0, 0, 0, 2, 0, 0, 0, 0, 3, 0, 6, 0, 0, 0, 0, 0, 2, 0, 0, 3, 0, 0, 0, 6, 3, 0, 0, 6, 0, 0, 0, 0, 0, 0, 2, 0, 0, 3, 0, 3, 0, 0, 2, 0, 0, 2, 0, 2, 0, 3, 3, 0, 0, 2, 3, 0, 0, 0, 0, 0, 2, 6, 0, 0, 4, 0, 0, 0, 0, 2, 0, 0, 0, 0, 0, 0, 0, 0, 0, 0, 0, 6, 0, 0, 0, 0, 0, 3, 0, 6, 0, 0, 0, 0, 0, 0, 2, 0, 2, 0, 2, 6, 3, 6, 0, 6, 6, 2, 0, 0, 3, 0, 0, 0, 0, 0, 0, 3, 0, 0, 3, 0, 0, 0, 0, 2, 0, 2, 0, 0, 0, 3, 0, 0, 4, 0, 0, 0, 3, 0, 0, 0, 2, 0, 0, 0, 0, 0, 0, 0, 0, 0, 2, 0, 0, 0, 0, 0, 0, 0, 6, 0, 2, 0, 0, 0, 0, 6, 0, 0, 0, 0, 0, 0, 0, 2, 0, 0, 0, 6, 0, 4, 6, 0, 0, 2, 2, 0, 0, 0, 4, 0, 0, 4, 2, 0, 2, 0, 0, 6, 0, 0, 3, 0, 0, 6, 0, 0, 0, 0, 0, 2, 0, 6, 0, 0, 6, 0, 0, 0, 3, 0, 0, 0, 3, 0, 3, 2, 2, 4, 0, 3, 2, 0, 0, 0, 0, 0, 2, 0, 2, 0, 0, 0, 0, 2, 0, 0, 0, 2, 3, 0, 0, 0, 0, 0, 0, 0, 0, 0, 0, 4, 2, 0, 0, 0, 0, 0, 0, 0, 3, 0, 0, 0, 0, 2, 0, 0, 0, 0, 2, 2, 6, 3, 0, 0, 0, 0, 4, 0, 2, 0, 6, 2, 0, 3, 1, 0, 0, 0, 3, 0, 0, 0, 3, 0, 0, 0, 3, 2, 0, 3, 0, 0, 0, 0, 0, 0, 0, 0, 0, 0, 0, 2, 0, 0, 6, 0, 2, 6, 0, 0, 0, 4, 0, 0, 3, 0, 3, 0, 0, 0, 2, 6, 0, 2, 3, 2, 0, 2, 6, 0, 4, 2, 0, 0, 0, 0, 0, 0, 6, 0, 0, 4, 6, 3, 0, 0, 0, 0, 6, 0, 2, 4, 3, 2, 4, 0, 0, 2, 6, 6, 0, 0, 0, 2, 6, 0, 0, 6, 0, 0, 0, 0, 3, 0, 4, 0, 3, 0, 0, 0, 2, 0, 0, 0, 0, 2, 0, 0, 6, 0, 0, 0, 0, 0, 0, 0, 2, 0, 6, 0, 0, 0, 0, 2, 0, 0, 0, 0, 4, 0, 0, 0, 0, 0, 0, 6, 0, 0, 0, 3, 6, 2, 2, 0, 0, 0, 3, 0, 0, 0, 0, 0, 0, 0, 0, 0, 3, 0, 0, 0, 0, 0, 0, 6, 3, 0, 0, 2, 0, 2, 0, 0, 0, 0, 0, 3, 0, 0, 6, 2, 0, 2, 6, 0, 0, 3, 0, 0, 0, 0, 0, 4, 6, 0, 0, 0, 4, 0, 3, 6, 0, 0, 0, 6, 2, 0, 0, 0, 0, 0, 0, 0, 0, 0, 3, 0, 2, 6, 4, 3, 0, 6, 0, 2, 0, 0, 0, 0, 0, 0, 0, 0, 0, 0, 5, 0, 3, 0, 0, 6, 4, 3, 0, 0, 2, 3, 3, 0, 0, 0, 0, 0, 0, 0, 0, 3, 0, 0, 0, 0, 0, 0, 0, 0, 0, 0, 0, 0, 0, 0, 0, 6, 2, 0, 0]\n"
          ]
        }
      ]
    },
    {
      "cell_type": "code",
      "source": [
        "# Plot the confusion matrix\n",
        "cm = confusion_matrix(true_attacks, predicted_attacks, labels=attack_types)\n",
        "f, ax = plt.subplots(figsize=(5, 5))\n",
        "sns.heatmap(cm, annot=True, linewidth=0.5, linecolor=\"blue\", fmt=\"d\", ax=ax)\n",
        "plt.xlabel(\"Predicted Attack\")\n",
        "plt.ylabel(\"True Attack\")\n",
        "plt.show()"
      ],
      "metadata": {
        "colab": {
          "base_uri": "https://localhost:8080/",
          "height": 465
        },
        "id": "ucBpBIzxJoaO",
        "outputId": "19c77e6f-53e3-407d-fa13-067576ba5255"
      },
      "execution_count": 25,
      "outputs": [
        {
          "output_type": "display_data",
          "data": {
            "text/plain": [
              "<Figure size 500x500 with 2 Axes>"
            ],
            "image/png": "[encoded data removed]"
          },
          "metadata": {}
        }
      ]
    }
  ]
}